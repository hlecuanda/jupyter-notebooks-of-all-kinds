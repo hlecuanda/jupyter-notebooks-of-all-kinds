{
  "nbformat": 4,
  "nbformat_minor": 0,
  "metadata": {
    "colab": {
      "name": "CalendarEvents.ipynb",
      "version": "0.3.2",
      "provenance": [],
      "private_outputs": true,
      "toc_visible": true,
      "include_colab_link": true
    },
    "kernelspec": {
      "name": "python3",
      "display_name": "Python 3"
    },
    "accelerator": "GPU"
  },
  "cells": [
    {
      "cell_type": "markdown",
      "metadata": {
        "id": "view-in-github",
        "colab_type": "text"
      },
      "source": [
        "[View in Colaboratory](https://colab.research.google.com/github/hlecuanda/jupyter-notebooks-of-all-kinds/blob/devel/CalendarEvents.ipynb)"
      ]
    },
    {
      "metadata": {
        "id": "8HMvXL-stoA5",
        "colab_type": "text"
      },
      "cell_type": "markdown",
      "source": [
        "##Auth"
      ]
    },
    {
      "metadata": {
        "id": "0Q1DKgJrDCwF",
        "colab_type": "code",
        "colab": {}
      },
      "cell_type": "code",
      "source": [
        "import os\n",
        "import re\n",
        "import datetime\n",
        "from time import sleep\n",
        "from pprint import pprint\n",
        "\n",
        "from google.colab import auth\n",
        "from googleapiclient.discovery import build\n",
        "from apiclient.http import MediaIoBaseDownload\n",
        "from google.oauth2 import service_account\n",
        "\n",
        "try:    \n",
        "    import uuid0\n",
        "    from google.cloud import storage\n",
        "    from googleapiclient import discovery\n",
        "except:\n",
        "    !pip install --upgrade google-cloud-storage \n",
        "    !pip install --upgrade google-api-client \n",
        "    !pip install --upgrade uuid0\n",
        "    import uuid0\n",
        "    from google.cloud import storage\n",
        "    from googleapiclient import discovery\n",
        "\n",
        "\n",
        "STORAGE_BUCKET=\"archive.h-lo.me\"\n",
        "STORAGE_PATH = \"credentials/\"\n",
        "PROJECT=\"colab-datalab-nbooks\"\n",
        "SA_FILE=\"colab-datalab-nbooks-0b23b6ee2449.json\"\n",
        "\n",
        "def download_blob(bucket_name, source_blob_name, destination_file_name):\n",
        "    \"\"\"Downloads a blob from the bucket.\"\"\"        \n",
        "    bucket = storage_client.get_bucket(bucket_name)\n",
        "    blob = bucket.blob(source_blob_name)\n",
        "    blob.download_to_filename(destination_file_name)\n",
        "\n",
        "    print('Blob {} downloaded to {}.'.format(\n",
        "        source_blob_name,\n",
        "        destination_file_name))\n",
        "\n",
        "def reset_credentials():\n",
        "    os.remove(SA_FILE)\n",
        "    \n",
        "auth.authenticate_user()\n",
        "storage_client = storage.Client(PROJECT)       \n",
        "\n",
        "SCOPES = ['https://www.googleapis.com/auth/calendar']\n",
        "\n",
        "try:\n",
        "    os.stat(SA_FILE)\n",
        "except FileNotFoundError:    \n",
        "    download_blob(STORAGE_BUCKET, STORAGE_PATH+SA_FILE, SA_FILE)\n",
        "\n",
        "credentials = service_account.Credentials.from_service_account_file(\n",
        "        SA_FILE, scopes=SCOPES).with_subject('hector@lecuanda.com')\n",
        "\n",
        "# drive  = discovery.build('drive', 'v3', credentials=credentials)\n",
        "# sheets = discovery.build('sheets','v4', credentials=credentials)\n",
        "calendar = discovery.build('calendar','v3', credentials=credentials)"
      ],
      "execution_count": 0,
      "outputs": []
    },
    {
      "metadata": {
        "id": "TTuuNiLYt0S0",
        "colab_type": "text"
      },
      "cell_type": "markdown",
      "source": [
        "## Calendar"
      ]
    },
    {
      "metadata": {
        "id": "5EAMrLXsmX4K",
        "colab_type": "text"
      },
      "cell_type": "markdown",
      "source": [
        "###  Get phonecalls Calendar"
      ]
    },
    {
      "metadata": {
        "id": "98OIZo3jdgiK",
        "colab_type": "code",
        "colab": {}
      },
      "cell_type": "code",
      "source": [
        "now = datetime.datetime.utcnow()\n",
        "start = datetime.datetime(now.year, \n",
        "                          now.month,\n",
        "                          20).isoformat() + 'Z' # 'Z' indicates UTC time\n",
        "\n",
        "PHONECALLS_CALENDAR = 'lecuanda.com_oigsd97meblvho2lcq4fhdvelg@group.calendar.google.com'\n",
        "TIMINGS_CALENDAR = 'lecuanda.com_pe3pajpic2srsj27aqd4l0qfhs@group.calendar.google.com'\n",
        "\n",
        "phonecalls = calendar.events().list(calendarId=PHONECALLS_CALENDAR, \n",
        "                                       timeMin=start,\n",
        "                                       #maxResults=20, \n",
        "                                       singleEvents=True,\n",
        "                                       orderBy='startTime').execute().get('items',[])"
      ],
      "execution_count": 0,
      "outputs": []
    },
    {
      "metadata": {
        "id": "o5TTM95o5FUr",
        "colab_type": "code",
        "colab": {}
      },
      "cell_type": "code",
      "source": [
        "jrmcalls=[]\n",
        "unknown=[]\n",
        "m=re.compile('.*(Meza)')\n",
        "u=re.compile('.*(Unknown)')\n",
        "\n",
        "for call in phonecalls:\n",
        "    if m.match(call['summary']):\n",
        "        jrmcalls.append(call)\n",
        "    if u.match(call['summary']):\n",
        "        unknown.append(call)\n",
        "\n",
        "print(len(jrmcalls) )\n",
        "#pprint(jrmcalls)"
      ],
      "execution_count": 0,
      "outputs": []
    },
    {
      "metadata": {
        "id": "5S_FPOKSpzca",
        "colab_type": "code",
        "colab": {}
      },
      "cell_type": "code",
      "source": [
        "\n",
        "for call in jrmcalls:\n",
        "    calendar.events().move(calendarId=PHONECALLS_CALENDAR, \n",
        "                         eventId=call['id'],\n",
        "                        destination=TIMINGS_CALENDAR,\n",
        "                        sendNotifications=False).execute()\n",
        "    print('moved {}'.format(call['id']))\n",
        "    sleep(3)\n",
        "    "
      ],
      "execution_count": 0,
      "outputs": []
    }
  ]
}