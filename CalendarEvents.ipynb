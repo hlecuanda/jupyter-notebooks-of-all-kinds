{
  "nbformat": 4,
  "nbformat_minor": 0,
  "metadata": {
    "colab": {
      "name": "CalendarEvents.ipynb",
      "version": "0.3.2",
      "provenance": [],
      "private_outputs": true,
      "toc_visible": true,
      "include_colab_link": true
    },
    "kernelspec": {
      "name": "python3",
      "display_name": "Python 3"
    },
    "accelerator": "GPU"
  },
  "cells": [
    {
      "cell_type": "markdown",
      "metadata": {
        "id": "view-in-github",
        "colab_type": "text"
      },
      "source": [
        "[View in Colaboratory](https://colab.research.google.com/github/hlecuanda/jupyter-notebooks-of-all-kinds/blob/devel/CalendarEvents.ipynb)"
      ]
    },
    {
      "metadata": {
        "id": "8HMvXL-stoA5",
        "colab_type": "text"
      },
      "cell_type": "markdown",
      "source": [
        "##Auth"
      ]
    },
    {
      "metadata": {
        "id": "0Q1DKgJrDCwF",
        "colab_type": "code",
        "colab": {}
      },
      "cell_type": "code",
      "source": [
        "from google.colab import auth\n",
        "from googleapiclient.discovery import build\n",
        "from apiclient.http import MediaIoBaseDownload\n",
        "from google.oauth2 import service_account\n",
        "import datetime\n",
        "\n",
        "try:\n",
        "    from google.cloud import storage\n",
        "    from googleapiclient import discovery\n",
        "    \n",
        "except:\n",
        "    !pip install --upgrade google-cloud-storage google-api-client\n",
        "    from google.cloud import storage\n",
        "    from googleapiclient import discovery\n",
        "\n",
        "def download_blob(bucket_name, source_blob_name, destination_file_name):\n",
        "    \"\"\"Downloads a blob from the bucket.\"\"\"        \n",
        "    bucket = storage_client.get_bucket(bucket_name)\n",
        "    blob = bucket.blob(source_blob_name)\n",
        "    blob.download_to_filename(destination_file_name)\n",
        "\n",
        "    print('Blob {} downloaded to {}.'.format(\n",
        "        source_blob_name,\n",
        "        destination_file_name))\n",
        "\n",
        "def reset_auth():\n",
        "    !rm -v = *.json\n",
        "    \n",
        "STORAGE_BUCKET=\"archive.h-lo.me\"\n",
        "STORAGE_PATH = \"credentials/\"\n",
        "PROJECT=\"colab-datalab-nbooks\"\n",
        "SA_FILE=\"colab-datalab-nbooks-0b23b6ee2449.json\"\n",
        "\n",
        "auth.authenticate_user()\n",
        "storage_client = storage.Client(PROJECT)       \n",
        "\n",
        "SCOPES = ['https://www.googleapis.com/auth/calendar']\n",
        "\n",
        "!rm '$SA_FILE'\n",
        "\n",
        "download_blob(STORAGE_BUCKET, STORAGE_PATH+SA_FILE, SA_FILE)\n",
        "\n",
        "credentials = service_account.Credentials.from_service_account_file(\n",
        "        SA_FILE, scopes=SCOPES).with_subject('hector@lecuanda.com')\n",
        "\n",
        "# drive  = discovery.build('drive', 'v3', credentials=credentials)\n",
        "# sheets = discovery.build('sheets','v4', credentials=credentials)\n",
        "calendar = discovery.build('calendar','v3', credentials=credentials)"
      ],
      "execution_count": 0,
      "outputs": []
    },
    {
      "metadata": {
        "id": "TTuuNiLYt0S0",
        "colab_type": "text"
      },
      "cell_type": "markdown",
      "source": [
        "## Calendar"
      ]
    },
    {
      "metadata": {
        "id": "98OIZo3jdgiK",
        "colab_type": "code",
        "colab": {}
      },
      "cell_type": "code",
      "source": [
        "now = datetime.datetime.utcnow().isoformat() + 'Z' # 'Z' indicates UTC time\n",
        "hago= datetime.datetime(tsnow.year,\n",
        "                        tsnow.month,\n",
        "                        1,\n",
        "                        0).isoformat() + 'Z'\n",
        "\n",
        "CAL='lecuanda.com_oigsd97meblvho2lcq4fhdvelg@group.calendar.google.com'\n",
        "\n",
        "events_result = calendar.events().list(calendarId=CAL, \n",
        "                                       timeMin=hago,\n",
        "                                     # maxResults=10, \n",
        "                                       singleEvents=True,\n",
        "                                       orderBy='startTime').execute()\n",
        "events = events_result.get('items', [])\n",
        "\n",
        "if not events:\n",
        "    print('No upcoming events found.')\n",
        "for event in events:\n",
        "    start = event['start'].get('dateTime', event['start'].get('date'))\n",
        "    print(start, event['summary'])\n"
      ],
      "execution_count": 0,
      "outputs": []
    },
    {
      "metadata": {
        "id": "o5TTM95o5FUr",
        "colab_type": "code",
        "colab": {}
      },
      "cell_type": "code",
      "source": [
        ""
      ],
      "execution_count": 0,
      "outputs": []
    }
  ]
}