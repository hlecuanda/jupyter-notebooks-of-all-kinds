{
  "nbformat": 4,
  "nbformat_minor": 0,
  "metadata": {
    "colab": {
      "private_outputs": true,
      "provenance": [],
      "authorship_tag": "ABX9TyMfv9bY8XjTT+LzAuIk1ZOj",
      "include_colab_link": true
    },
    "kernelspec": {
      "name": "python3",
      "display_name": "Python 3"
    },
    "language_info": {
      "name": "python"
    }
  },
  "cells": [
    {
      "cell_type": "markdown",
      "metadata": {
        "id": "view-in-github",
        "colab_type": "text"
      },
      "source": [
        "<a href=\"https://colab.research.google.com/github/hlecuanda/jupyter-notebooks-of-all-kinds/blob/master/Sintesis_de_voz.ipynb\" target=\"_parent\"><img src=\"https://colab.research.google.com/assets/colab-badge.svg\" alt=\"Open In Colab\"/></a>"
      ]
    },
    {
      "cell_type": "markdown",
      "source": [
        "# Sintesis de voz.\n",
        "\n",
        "Esta libreta demuestra el uso de las API de google para sintesis de voz a part ir de texto (Text to Speech, o bien TTS)\n",
        "\n",
        "\n",
        "\n"
      ],
      "metadata": {
        "id": "knfzulevFsz9"
      }
    },
    {
      "cell_type": "markdown",
      "source": [
        "## instalación y pre-requisitos:\n",
        "\n",
        "usaremos la libreria cliente de google asi como logzero para las bitacoras requeridas"
      ],
      "metadata": {
        "id": "uQ70ZBrOSOs4"
      }
    },
    {
      "cell_type": "code",
      "execution_count": null,
      "metadata": {
        "id": "HVhsMG1cFeaK"
      },
      "outputs": [],
      "source": [
        "!pip install --upgrade google-cloud-texttospeech\n",
        "!pip install --upgrade google-cloud-iam"
      ]
    },
    {
      "cell_type": "markdown",
      "source": [
        "también es necesario activar el API de sintesis de texto en un proyecto especifico. Daso que esta libreta esta iseñada para ser ejecutada en un ambiente de ejecución de google,aprovecharemos que estos ambientes nativos incluyen los clientes necesarios en la linea de comando.  \n",
        "\n",
        "Adicionalmente esto quiere decir que nos ahorraremos el proceso de autenticacion, al usar las credeniales por defecto de aplicacion (ADC) que es una prestacion de la plataforma de google cloud.\n",
        "\n",
        "Si deseas ejecutar esta libreta en otros ambientes, aqui es donde puedes agrear los pasos de autenticacion requeridos (Cliente de Oauth o alternativamente una cuenta de servicio registrada)"
      ],
      "metadata": {
        "id": "Qk6b8q6sSfPv"
      }
    },
    {
      "cell_type": "code",
      "source": [
        "from google.colab import auth\n",
        "PROJECT_ID = \"mezaops\" # @param {type: \"string\"}\n",
        "auth.authenticate_user(project_id=PROJECT_ID)"
      ],
      "metadata": {
        "id": "cQnmPP1-Thzj"
      },
      "execution_count": null,
      "outputs": []
    },
    {
      "cell_type": "code",
      "source": [
        "!gcloud config set project {PROJECT_ID}\n",
        "!gcloud services enable texttospeech.googleapis.com"
      ],
      "metadata": {
        "id": "OonJrwaQSepJ"
      },
      "execution_count": null,
      "outputs": []
    },
    {
      "cell_type": "markdown",
      "source": [
        "## Procesamiento del texto"
      ],
      "metadata": {
        "id": "RIf5JQBkaiDV"
      }
    },
    {
      "cell_type": "markdown",
      "source": [
        "primerom cargamos un archivo de texto desde el sistema local (colab esta en el abiente de ejecución en google, que es una máquina virtual remota)\n",
        "\n",
        "para mejores resultados, debe tratarse de texto simple, cada párafo completo debe estar en una sola linea individual, y no debe haber espacios entre las lineas. La razon e esto, es que el sintentizador de voz consiera toa la linea para generar los sonidos, si guardando los margenes, rompes un enunciado en dos mas cortos, el audio contendrá una pausa extraña y en ocasiones puede cambiar el significado de las frases.\n"
      ],
      "metadata": {
        "id": "COFqukEIyBIP"
      }
    },
    {
      "cell_type": "code",
      "source": [
        "from google.colab import files\n",
        "\n",
        "uploaded = files.upload()\n",
        "\n",
        "def msg(name):\n",
        "    print(f'User uploaded file \"{name}\" with length {len(uploaded[name])} bytes')\n",
        "\n",
        "_ = [msg(name) for name in uploaded.keys()]\n",
        "\n",
        "filenames = list(uploaded)"
      ],
      "metadata": {
        "id": "Fu7FzULpyaEJ"
      },
      "execution_count": null,
      "outputs": []
    },
    {
      "cell_type": "code",
      "source": [
        "with open(filenames[0], \"rt\", encoding=\"utf-8\", newline=None) as textfile:\n",
        "    rawtextarray = textfile.readlines()\n",
        "\n",
        "textarray = [line.strip() for line in rawtextarray]\n",
        "\n",
        "print(textarray)"
      ],
      "metadata": {
        "collapsed": true,
        "id": "YPGkp5nTr5il"
      },
      "execution_count": null,
      "outputs": []
    },
    {
      "cell_type": "code",
      "source": [
        "from google.cloud import texttospeech\n",
        "\n",
        "# Crear una instancia del cliente API de Síntesis de voz\n",
        "client = texttospeech.TextToSpeechClient()\n",
        "\n",
        "\n",
        "# Configurar la peticiónn al APIm con lenguaje, género de voz y el tipo\n",
        "# de archivo a generad\n",
        "voice = texttospeech.VoiceSelectionParams(\n",
        "    language_code=\"en-US\", ssml_gender=texttospeech.SsmlVoiceGender.NEUTRAL\n",
        ")\n",
        "audio_config = texttospeech.AudioConfig(\n",
        "    audio_encoding=texttospeech.AudioEncoding.MP3\n",
        ")\n",
        "\n",
        "# Abrir el archivo de salida, en modo binario. cada párrafo manda una requisicion\n",
        "# al api. al recibir la respuesta, es concadenada en el archivo hasta que se\n",
        "# cierra al salir del bloque \"with\"\n",
        "with open(\"output.mp3\", \"wb\") as out:\n",
        "\n",
        "    parano = 1\n",
        "    for paragraph in textarray:\n",
        "        synthesis_input = texttospeech.SynthesisInput(text=paragraph)\n",
        "        response = client.synthesize_speech(\n",
        "            input=synthesis_input, voice=voice, audio_config=audio_config\n",
        "        )\n",
        "        # Write the response to the output file.\n",
        "        out.write(response.audio_content)\n",
        "        print(f\"párrafo {parano}/{len(textarray)} que inicia en {paragraph[0:15]}... sintetizado\")\n",
        "\n",
        "print(\"Listo, el resultado está en output.mp3\")\n"
      ],
      "metadata": {
        "id": "K6jqQBqfvvgN"
      },
      "execution_count": null,
      "outputs": []
    }
  ]
}