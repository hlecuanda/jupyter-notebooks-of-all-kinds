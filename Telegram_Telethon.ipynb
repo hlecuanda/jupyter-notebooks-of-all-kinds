{
  "nbformat": 4,
  "nbformat_minor": 0,
  "metadata": {
    "colab": {
      "name": "Telegram-Telethon.ipynb",
      "version": "0.3.2",
      "provenance": [],
      "private_outputs": true,
      "collapsed_sections": [],
      "toc_visible": true
    },
    "kernelspec": {
      "name": "python3",
      "display_name": "Python 3"
    }
  },
  "cells": [
    {
      "cell_type": "markdown",
      "metadata": {
        "id": "view-in-github",
        "colab_type": "text"
      },
      "source": [
        "[View in Colaboratory](https://colab.research.google.com/github/hlecuanda/jupyter-notebooks-of-all-kinds/blob/master/Telegram_Telethon.ipynb)"
      ]
    },
    {
      "metadata": {
        "id": "5nwJALaluOSg",
        "colab_type": "text"
      },
      "cell_type": "markdown",
      "source": [
        "# Telethon: a comprehensive python 3 library for telegram and MTProto. ![alt text](https://)"
      ]
    },
    {
      "metadata": {
        "id": "bylzgw0HpXI8",
        "colab_type": "text"
      },
      "cell_type": "markdown",
      "source": [
        "The puropose of this notebook is to illustrate the examplesfound on the [documentation for the telethon libraruy](https://telethon.readthedocs.io). as with the rest of the notebooks in this repopsitory, it was developed using [Colaboratory](https://colab.research.google.com) which is a notebook environment that runs off of your google drive, so you don't needto set up a whole notebook envronment and just click away and get gong wth code. "
      ]
    },
    {
      "metadata": {
        "id": "NI5ISBpK_tvk",
        "colab_type": "text"
      },
      "cell_type": "markdown",
      "source": [
        "## Table of contents"
      ]
    },
    {
      "metadata": {
        "id": "pn4NU69wugp2",
        "colab_type": "toc"
      },
      "cell_type": "markdown",
      "source": [
        ">[Telethon: a comprehensive python 3 library for telegram and MTProto.](#scrollTo=5nwJALaluOSg&uniqifier=1)\n",
        "\n",
        ">>[Table of contents](#scrollTo=NI5ISBpK_tvk&uniqifier=1)\n",
        "\n",
        ">>[Setting up your environment](#scrollTo=Hq15EGPW1YHg&uniqifier=1)\n",
        "\n",
        ">>[Getting data from the Telegram API](#scrollTo=XZuAGFwVTXY_&uniqifier=1)\n",
        "\n",
        ">>>[Get your own info](#scrollTo=h4vrx4qOYZre&uniqifier=1)\n",
        "\n",
        ">>>[Get someone's User object](#scrollTo=Cm5PN0FAcCeJ&uniqifier=1)\n",
        "\n",
        ">[Listing all the dialogs (conversations you have open)](#scrollTo=sFPaIxwuTUxk&uniqifier=1)\n",
        "\n",
        ">>>[Categorization](#scrollTo=Ncu_BaD7gAHV&uniqifier=1)\n",
        "\n",
        ">>>[Sending a message (you can use 'me' or 'self' to message yourself)](#scrollTo=H3NKUqweTkwc&uniqifier=1)\n",
        "\n"
      ]
    },
    {
      "metadata": {
        "id": "Hq15EGPW1YHg",
        "colab_type": "text"
      },
      "cell_type": "markdown",
      "source": [
        "## Setting up your environment"
      ]
    },
    {
      "metadata": {
        "id": "yXR_u3vsXQmv",
        "colab_type": "code",
        "colab": {}
      },
      "cell_type": "code",
      "source": [
        "try:\n",
        "    import telethon\n",
        "except(ValueNotFoundError):\n",
        "    !pip install telethon\n",
        "    import telethon\n",
        "finally:\n",
        "    import getpass\n",
        "    \n",
        "from telethon.tl.functions.users import GetFullUserRequest\n",
        "from telethon.errors import SessionPasswordNeededError\n",
        "from telethon import TelegramClient\n",
        "from telethon import utils"
      ],
      "execution_count": 0,
      "outputs": []
    },
    {
      "metadata": {
        "id": "u1Batyu02lij",
        "colab_type": "text"
      },
      "cell_type": "markdown",
      "source": [
        "Get your own `api_hash` and  `api_id` at [https;//my.telegram.org](https://my.telegram.org) these should be unique for your own notebook/application  "
      ]
    },
    {
      "metadata": {
        "id": "XD7AJzF17P6x",
        "colab_type": "code",
        "colab": {}
      },
      "cell_type": "code",
      "source": [
        "#@title App secrets { vertical-output: true, display-mode: \"both\" }\n",
        "api_hash = \"\" #@param {type:\"string\"}\n",
        "api_id =  #@param {type:\"integer\"}\n",
        "myphone = \"\" #@param {type:\"string\"}\n",
        "forceSMS = True #@param {type:\"boolean\"}\n",
        "debug = False #@param {type:\"boolean\"}"
      ],
      "execution_count": 0,
      "outputs": []
    },
    {
      "metadata": {
        "id": "YRASIsIl4mBe",
        "colab_type": "text"
      },
      "cell_type": "markdown",
      "source": [
        "Now wth the connection parameters, app id and hash we can establish a connection to the telegram servers by creating a `TelegramClient()` please note that\n",
        "\n",
        "\n",
        "*   Common error conditions are handled\n",
        "*   we should check for the existance of the `.session` file to avoid constantly hitting the auth API\n",
        "*   Some of the parameters to the [`Telethon.client.start()`](https://telethon.readthedocs.io/en/latest/telethon.html#module-telethon.telegram_client) instance methods, specfically `phone_no`and `auth2fa`should be the names of callback functions. The idea is to enable automation by providing a hook to get the required data trough a procedure you define on this function. it could for example invoke the secrets handling api from google cloud encryption management, or query an `etcd` server in your Kubernetes cluster, or just display a form. in this case the callback will just return the value of the global variable defined on the form above, but you may get creative here. \n",
        "\n"
      ]
    },
    {
      "metadata": {
        "id": "LoZoxTD1t484",
        "colab_type": "code",
        "colab": {}
      },
      "cell_type": "code",
      "source": [
        "def phoneno():\n",
        "    return myphone\n",
        "\n",
        "def auth2fa():\n",
        "    return getpass.getpass('Enter your 2FA password: ')\n",
        "\n",
        "def reauthorize():\n",
        "    client.start(phoneno,auth2fa)\n",
        "\n",
        "\n",
        "client = TelegramClient('session_name', api_id, api_hash)\n",
        "\n",
        "\n",
        "if not client.is_connected():\n",
        "    print('Not connected')\n",
        "    if not client.is_user_authorized():\n",
        "        print ('not Authorized')\n",
        "        client.start(phoneno,auth2fa)\n",
        "    else:\n",
        "        print('a')\n",
        "else:\n",
        "    print('b')\n",
        "       \n",
        "\n"
      ],
      "execution_count": 0,
      "outputs": []
    },
    {
      "metadata": {
        "id": "XZuAGFwVTXY_",
        "colab_type": "text"
      },
      "cell_type": "markdown",
      "source": [
        "## Getting data from the Telegram API"
      ]
    },
    {
      "metadata": {
        "id": "h4vrx4qOYZre",
        "colab_type": "text"
      },
      "cell_type": "markdown",
      "source": [
        "### Get your own info\n",
        "\n",
        "This may be the most basic call."
      ]
    },
    {
      "metadata": {
        "id": "eauFxC2_-Qr9",
        "colab_type": "code",
        "colab": {}
      },
      "cell_type": "code",
      "source": [
        "me = client.get_me()\n",
        "\n",
        "me \n",
        "\n",
        "if debug:\n",
        "    print(me.user.stringify())"
      ],
      "execution_count": 0,
      "outputs": []
    },
    {
      "metadata": {
        "id": "31zyDZY09EAu",
        "colab_type": "text"
      },
      "cell_type": "markdown",
      "source": [
        "Anolther way of doing it, which wiill get the full user object instead:"
      ]
    },
    {
      "metadata": {
        "id": "hhKyqwgsuYon",
        "colab_type": "code",
        "colab": {}
      },
      "cell_type": "code",
      "source": [
        "me=client(GetFullUserRequest('me'))\n",
        "\n",
        "me \n",
        "\n",
        "if debug:\n",
        "    print(me.stringify())\n",
        "    debug"
      ],
      "execution_count": 0,
      "outputs": []
    },
    {
      "metadata": {
        "id": "Cm5PN0FAcCeJ",
        "colab_type": "text"
      },
      "cell_type": "markdown",
      "source": [
        "### Get someone's `User` object"
      ]
    },
    {
      "metadata": {
        "id": "_r7ZjXDycFih",
        "colab_type": "code",
        "colab": {}
      },
      "cell_type": "code",
      "source": [
        "#title UserID { vertical-output: true, display-mode: \"both\" }\n",
        "UserID = \"+526692120197\" #@param {type:\"string\"}\n",
        "\n",
        "g = client(GetFullUserRequest(UserID))\n",
        "\n",
        "if debug:\n",
        "    printf(g.stringify())\n",
        "    if debug:\n",
        "        print(me.stringify())\n",
        "        debug \n",
        " "
      ],
      "execution_count": 0,
      "outputs": []
    },
    {
      "metadata": {
        "id": "DJa6SZYNddsq",
        "colab_type": "text"
      },
      "cell_type": "markdown",
      "source": [
        ""
      ]
    },
    {
      "metadata": {
        "id": "sFPaIxwuTUxk",
        "colab_type": "text"
      },
      "cell_type": "markdown",
      "source": [
        "# Listing all the dialogs (conversations you have open)\n"
      ]
    },
    {
      "metadata": {
        "id": "E3Kbkmo70zkf",
        "colab_type": "code",
        "colab": {}
      },
      "cell_type": "code",
      "source": [
        "a=client.get_dialogs()[1]\n",
        "print(a.stringify())"
      ],
      "execution_count": 0,
      "outputs": []
    },
    {
      "metadata": {
        "id": "nrlGc8Gdarvw",
        "colab_type": "code",
        "colab": {}
      },
      "cell_type": "code",
      "source": [
        "def categorize_chats(UserD):\n",
        "    ''' retrieves the data about conversation, sorting in \n",
        "    three different arrays, for users, channels and groups\n",
        "    respectibly. '''\n",
        "    \n",
        "    chatsdata = {}\n",
        "    userchats = []\n",
        "    channels =[]\n",
        "    groups =[]\n",
        "    \n",
        "    for dialog in client.get_dialogs():\n",
        "        if dialog.is_user:  \n",
        "            userchats.append(dialog)\n",
        "        elif dialog.is_channel:\n",
        "            channels.append(dialog)\n",
        "        elif  dialog.is_group:\n",
        "            groups.append(dialog)\n",
        "        else:\n",
        "            print(dialog.stringify)\n",
        "    \n",
        "    chatsdata['userchat'] = userchats\n",
        "    chatsdata['channel'] = channels\n",
        "    chatsdata['group'] = groups\n",
        "\n",
        "    return chatsdata\n",
        "        "
      ],
      "execution_count": 0,
      "outputs": []
    },
    {
      "metadata": {
        "id": "Ncu_BaD7gAHV",
        "colab_type": "text"
      },
      "cell_type": "markdown",
      "source": [
        "### Categorization"
      ]
    },
    {
      "metadata": {
        "id": "j-htlcuafej8",
        "colab_type": "code",
        "colab": {}
      },
      "cell_type": "code",
      "source": [
        "from pprint import pprint\n",
        "\n",
        "c=categorize_chats('me')\n",
        "d=categorize_chats('me')['userchanel']\n",
        "e=d[1]\n",
        "\n",
        "e.name\n",
        "\n",
        "for cat in c:\n",
        "    cat\n",
        "    for i in cat:\n",
        "        print(\"  {}   {}\".format(i,i))\n",
        "    \n"
      ],
      "execution_count": 0,
      "outputs": []
    },
    {
      "metadata": {
        "id": "H3NKUqweTkwc",
        "colab_type": "text"
      },
      "cell_type": "markdown",
      "source": [
        "\n",
        "### Sending a message (you can use 'me' or 'self' to message yourself)\n"
      ]
    },
    {
      "metadata": {
        "id": "ynAST-RTTlws",
        "colab_type": "code",
        "colab": {}
      },
      "cell_type": "code",
      "source": [
        "d.m=client.send_message('mtxto', 'Hello World from Telethon!')\n",
        "m.chat.status.stringify()\n"
      ],
      "execution_count": 0,
      "outputs": []
    },
    {
      "metadata": {
        "id": "S7xGeGitVydQ",
        "colab_type": "code",
        "colab": {}
      },
      "cell_type": "code",
      "source": [
        ""
      ],
      "execution_count": 0,
      "outputs": []
    },
    {
      "metadata": {
        "id": "0x0A3U78NqGe",
        "colab_type": "code",
        "colab": {}
      },
      "cell_type": "code",
      "source": [
        "\n",
        "\n",
        "# Sending a file\n",
        "client.send_file('mtxto', '/home/myself/Pictures/holidays.jpg')\n",
        "\n",
        "# Retrieving messages from a chat\n",
        "from telethon import utils\n",
        "for message in client.iter_messages('mtxto', limit=10):\n",
        "    print(utils.get_display_name(message.sender), message.message)\n",
        "\n",
        "# Listing all the dialogs (conversations you have open)\n",
        "for dialog in client.get_dialogs(limit=10):\n",
        "    print(utils.get_display_name(dialog.entity), dialog.draft.text)\n",
        "\n",
        "# Downloading profile photos (default path is the working directory)\n",
        "client.download_profile_photo('mtxto')\n",
        "\n",
        "# Once you have a message with .media (if message.media)\n",
        "# you can download it using client.download_media():\n",
        "messages = client.get_messages('mtxto')\n",
        "client.download_media(messages[0])"
      ],
      "execution_count": 0,
      "outputs": []
    }
  ]
}