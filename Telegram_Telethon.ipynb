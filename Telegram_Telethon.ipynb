{
  "nbformat": 4,
  "nbformat_minor": 0,
  "metadata": {
    "colab": {
      "name": "Telegram-Telethon.ipynb",
      "version": "0.3.2",
      "provenance": [],
      "private_outputs": true,
      "collapsed_sections": [],
      "include_colab_link": true
    },
    "kernelspec": {
      "name": "python3",
      "display_name": "Python 3"
    }
  },
  "cells": [
    {
      "cell_type": "markdown",
      "metadata": {
        "id": "view-in-github",
        "colab_type": "text"
      },
      "source": [
        "[View in Colaboratory](https://colab.research.google.com/github/hlecuanda/jupyter-notebooks-of-all-kinds/blob/devel/Telegram_Telethon.ipynb)"
      ]
    },
    {
      "metadata": {
        "id": "5nwJALaluOSg",
        "colab_type": "text"
      },
      "cell_type": "markdown",
      "source": [
        "# Telethon: a comprehensive python 3 library for telegram and MTProto. ![alt text](https://)"
      ]
    },
    {
      "metadata": {
        "id": "bylzgw0HpXI8",
        "colab_type": "text"
      },
      "cell_type": "markdown",
      "source": [
        "The puropose of this notebook is to illustrate the examplesfound on the [documentation for the telethon libraruy](https://telethon.readthedocs.io). as with the rest of the notebooks in this repopsitory, it was developed using [Colaboratory](https://colab.research.google.com) which is a notebook environment that runs off of your google drive, so you don't needto set up a whole notebook envronment and just click away and get gong wth code. "
      ]
    },
    {
      "metadata": {
        "id": "Hq15EGPW1YHg",
        "colab_type": "text"
      },
      "cell_type": "markdown",
      "source": [
        "## Setting up your environment"
      ]
    },
    {
      "metadata": {
        "id": "VPuVuvHyb9fa",
        "colab_type": "code",
        "colab": {}
      },
      "cell_type": "code",
      "source": [
        "#@title Notebook parameters { run: \"auto\", vertical-output: true, display-mode: \"form\" }\n",
        "SERVICE_ACCOUNT_FILE = \"colab-notebooks-7b143dd37c90.json\" #@param {type:\"string\"}\n",
        "DELEGATED_ACCOUNT = \"hector@lecuanda.com\" #@param {type:\"string\"}\n",
        "PROJECT = \"colab-notebooks\" #@param {type:\"string\"}\n",
        "DEBUG = True #@param {type:\"boolean\"}\n",
        "LOGGING = False #@param {type:\"boolean\"}\n",
        "MODULE = 'Telegram-Telethon.ipynb'\n",
        "VERSION = '0.0.1a0'\n",
        "\n",
        "if LOGGING:\n",
        "    import logging\n",
        "    logging.basicConfig(level=logging.DEBUG)\n",
        "\n",
        "print('SERVICE_ACCOUNT_FILE: {}'.format(SERVICE_ACCOUNT_FILE))\n",
        "print('DELEGATED_ACCOUNT: {}'.format(DELEGATED_ACCOUNT))\n",
        "print('PROJECT: {}'.format(PROJECT))\n",
        "\n",
        "import os\n",
        "os.environ['GOOGLE_CLOUD_PROJECT']=PROJECT\n",
        "print('GOOGLE_CLOUD_PROJECT environment set to \"{}\"'.format(PROJECT))"
      ],
      "execution_count": 0,
      "outputs": []
    },
    {
      "metadata": {
        "id": "d7G5qfrTRRNt",
        "colab_type": "text"
      },
      "cell_type": "markdown",
      "source": [
        "### Authentication"
      ]
    },
    {
      "metadata": {
        "id": "rrkhAl2uIWGQ",
        "colab_type": "code",
        "colab": {}
      },
      "cell_type": "code",
      "source": [
        "from google.colab import auth\n",
        "auth.authenticate_user()\n",
        "\n",
        "from googleapiclient.discovery import build\n",
        "drive_service = build('drive', 'v3')"
      ],
      "execution_count": 0,
      "outputs": []
    },
    {
      "metadata": {
        "id": "id8JmwspQaLK",
        "colab_type": "text"
      },
      "cell_type": "markdown",
      "source": [
        "### Error Reporting"
      ]
    },
    {
      "metadata": {
        "id": "HD7URpqIOlsT",
        "colab_type": "code",
        "colab": {}
      },
      "cell_type": "code",
      "source": [
        "try:\n",
        "    import googleclouddebugger\n",
        "[ ]\n",
        "\n",
        "1\n",
        "try:\n",
        "2\n",
        "    import googleclouddebugger\n",
        "3\n",
        "    from google.cloud import error_reporting\n",
        "4\n",
        "except ImportError:\n",
        "5\n",
        "    !pip -q install google-cloud-error-reporting\n",
        "6\n",
        "    !pip -q install google-python-cloud-debugger\n",
        "7\n",
        "    from google.cloud import error_reporting\n",
        "8\n",
        "    import googleclouddebugger\n",
        "9\n",
        "​\n",
        "10\n",
        "finally:\n",
        "11\n",
        "    erc = error_reporting.Client(PROJECT)    # client = error_reporting.Client??\n",
        "12\n",
        "           \n",
        "13\n",
        "def simulate_error():\n",
        "14\n",
        "    try:\n",
        "15\n",
        "        # simulate calling a method that's not defined\n",
        "16\n",
        "        raise NameError\n",
        "17\n",
        "    except Exception:\n",
        "18\n",
        "        erc.report_exception()\n",
        "19\n",
        "        \n",
        "20\n",
        "if DEBUG:\n",
        "21\n",
        "    googleclouddebugger.enable(\n",
        "22\n",
        "        module=MODULE,\n",
        "23\n",
        "        version=VERSION\n",
        "24\n",
        "    )\n",
        "25\n",
        "    simulate_error()\n",
        "26\n",
        "​\n",
        "27\n",
        " \n",
        "Héctor Lecuanda\n",
        "[ ]\n",
        "\n",
        "1\n",
        "simulate_error()\n",
        "Telethon Library\n",
        "[ ]\n",
        "\n",
        "1\n",
        "try:\n",
        "2\n",
        "    import telethon\n",
        "3\n",
        "except ModuleNotFoundError as e:\n",
        "4\n",
        "    !pip -q install telethon\n",
        "5\n",
        "    import telethon\n",
        "6\n",
        "finally:\n",
        "7\n",
        "    from telethon.tl.functions.users import GetFullUserRequest\n",
        "8\n",
        "    from telethon.errors import SessionPasswordNeededError\n",
        "9\n",
        "    from telethon import TelegramClient\n",
        "10\n",
        "    from telethon import utils\n",
        "11\n",
        "    if LOGGING:\n",
        "12\n",
        "        logging.getLogger('telethon').setLevel(level=logging.WARNING)\n",
        "13\n",
        "        prnt('Logging enabled at {}'.format(logging.WARNING))\n",
        "14\n",
        "    import getpass\n",
        "Get your own api_hash and api_id at https;//my.telegram.org these should be unique for your own notebook/application\n",
        "\n",
        "[ ]\n",
        "\n",
        "1\n",
        "#@title App secrets { vertical-output: true, display-mode: \"both\" }\n",
        "2\n",
        "api_hash = \"d1d369768ccd7c0888a55d9ef3ad1e86\" #@param {type:\"string\"}\n",
        "3\n",
        "api_id = 19887 #@param {type:\"integer\"}\n",
        "4\n",
        "myphone = \"+3237414562\" #@param {type:\"string\"}\n",
        "5\n",
        "forceSMS = True #@param {type:\"boolean\"}\n",
        "6\n",
        "debug = True #@param {type:\"boolean\"}\n",
        "App secrets\n",
        "api_hash:\n",
        "\n",
        "d1d369768ccd7c0888a55d9ef3ad1e86\n",
        "api_id:\n",
        "\n",
        "19887\n",
        "myphone:\n",
        "\n",
        "+3237414562\n",
        "forceSMS:\n",
        "\n",
        "debug:\n",
        "\n",
        "Now wth the connection parameters, app id and hash we can establish a connection to the telegram servers by creating a TelegramClient() please note that\n",
        "\n",
        "Common error conditions are handled\n",
        "we should check for the existance of the .session file to avoid constantly hitting the auth API\n",
        "Some of the parameters to the Telethon.client.start() instance methods, specfically phone_noand auth2fashould be the names of callback functions. The idea is to enable automation by providing a hook to get the required data trough a procedure you define on this function. it could for example invoke the secrets handling api from google cloud encryption management, or query an etcd server in your Kubernetes cluster, or just display a form. in this case the callback will just return the value of the global variable defined on the form above, but you may get creative here.\n",
        "[ ]\n",
        "\n",
        "1\n",
        "def phoneno():\n",
        "2\n",
        "    return myphone\n",
        "3\n",
        "​\n",
        "4\n",
        "def auth2fa():\n",
        "5\n",
        "    return getpass.getpass('Enter your 2FA password: ')\n",
        "6\n",
        "​\n",
        "7\n",
        "def reauthorize():\n",
        "8\n",
        "    client.start(phoneno,auth2fa)\n",
        "9\n",
        "​\n",
        "10\n",
        "​\n",
        "11\n",
        "client = TelegramClient('session_name', api_id, api_hash)\n",
        "12\n",
        "​\n",
        "13\n",
        "if not client.is_connected():\n",
        "14\n",
        "    print('Not connected')\n",
        "15\n",
        "    if not client.is_user_authorized():\n",
        "16\n",
        "        print ('not Authorized')\n",
        "17\n",
        "        client.start(phoneno,auth2fa)\n",
        "18\n",
        "    else:\n",
        "19\n",
        "        print('a')\n",
        "20\n",
        "else:\n",
        "21\n",
        "    print('b')\n",
        "22\n",
        "       \n",
        "Getting data from the Telegram API\n",
        "Get your own info\n",
        "This may be the most basic call.\n",
        "\n",
        "[ ]\n",
        "\n",
        "1\n",
        "me = client.get_me()\n",
        "2\n",
        "​\n",
        "3\n",
        "me \n",
        "4\n",
        "​\n",
        "5\n",
        "if debug:\n",
        "6\n",
        "    print(me.user.stringify())\n",
        "Anolther way of doing it, which wiill get the full user object instead:\n",
        "\n",
        "[ ]\n",
        "\n",
        "1\n",
        "me=client(GetFullUserRequest('me'))\n",
        "2\n",
        "​\n",
        "3\n",
        "me \n",
        "4\n",
        "​\n",
        "5\n",
        "if debug:\n",
        "6\n",
        "    print(me.stringify())\n",
        "7\n",
        "    debug\n",
        "Get someone's User object\n",
        "[ ]\n",
        "UserID:\n",
        "\n",
        "+526692120197\n",
        "Double-click (or enter) to edit\n",
        "\n",
        "Listing all the dialogs (conversations you have open)\n",
        "[ ]\n",
        "\n",
        "1\n",
        "a=client.get_dialogs()[1]\n",
        "2\n",
        "print(a.stringify())\n",
        "[ ]\n",
        "\n",
        "1\n",
        "def categorize_chats(UserD):\n",
        "2\n",
        "    ''' retrieves the data about conversation, sorting in \n",
        "3\n",
        "    three different arrays, for users, channels and groups\n",
        "4\n",
        "    respectibly. '''\n",
        "5\n",
        "    \n",
        "6\n",
        "    chatsdata = {}\n",
        "7\n",
        "    userchats = []\n",
        "8\n",
        "    channels =[]\n",
        "9\n",
        "    groups =[]\n",
        "10\n",
        "    \n",
        "11\n",
        "    for dialog in client.get_dialogs():\n",
        "12\n",
        "        if dialog.is_user:  \n",
        "13\n",
        "            userchats.append(dialog)\n",
        "14\n",
        "        elif dialog.is_channel:\n",
        "15\n",
        "            channels.append(dialog)\n",
        "16\n",
        "        elif  dialog.is_group:\n",
        "17\n",
        "            groups.append(dialog)\n",
        "18\n",
        "        else:\n",
        "19\n",
        "            print(dialog.stringify)\n",
        "20\n",
        "    \n",
        "21\n",
        "    chatsdata['userchat'] = userchats\n",
        "22\n",
        "    chatsdata['channel'] = channels\n",
        "23\n",
        "    chatsdata['group'] = groups\n",
        "24\n",
        "​\n",
        "25\n",
        "    return chatsdata\n",
        "26\n",
        "        \n",
        "Categorization\n",
        "[ ]\n",
        "\n",
        "1\n",
        "from pprint import pprint\n",
        "2\n",
        "​\n",
        "3\n",
        "c=categorize_chats('me')\n",
        "4\n",
        "d=categorize_chats('me')['userchanel']\n",
        "5\n",
        "e=d[1]\n",
        "6\n",
        "​\n",
        "7\n",
        "e.name\n",
        "8\n",
        "​\n",
        "9\n",
        "for cat in c:\n",
        "10\n",
        "    cat\n",
        "11\n",
        "    for i in cat:\n",
        "12\n",
        "        print(\"  {}   {}\".format(i,i))\n",
        "13\n",
        "    \n",
        "14\n",
        "​\n",
        "Sending a message (you can use 'me' or 'self' to message yourself)\n",
        "[ ]\n",
        "\n",
        "1\n",
        "d.m=client.send_message('mtxto', 'Hello World from Telethon!')\n",
        "2\n",
        "m.chat.status.stringify()\n",
        "3\n",
        "​\n",
        "[ ]\n",
        "\n",
        "1\n",
        "​\n",
        "[ ]\n",
        "\n",
        "1\n",
        "​\n",
        "2\n",
        "​\n",
        "3\n",
        "# Sending a file\n",
        "4\n",
        "client.send_file('mtxto', '/home/myself/Pictures/holidays.jpg')\n",
        "5\n",
        "​\n",
        "6\n",
        "# Retrieving messages from a chat\n",
        "7\n",
        "from telethon import utils\n",
        "8\n",
        "for message in client.iter_messages('mtxto', limit=10):\n",
        "9\n",
        "    print(utils.get_display_name(message.sender), message.message)\n",
        "10\n",
        "​\n",
        "11\n",
        "# Listing all the dialogs (conversations you have open)\n",
        "12\n",
        "for dialog in client.get_dialogs(limit=10):\n",
        "13\n",
        "    print(utils.get_display_name(dialog.entity), dialog.draft.text)\n",
        "14\n",
        "​\n",
        "15\n",
        "# Downloading profile photos (default path is the working directory)\n",
        "16\n",
        "client.download_profile_photo('mtxto')\n",
        "17\n",
        "​\n",
        "18\n",
        "# Once you have a message with .media (if message.media)\n",
        "19\n",
        "# you can download it using client.download_media():\n",
        "20\n",
        "messages = client.get_messages('mtxto')\n",
        "21\n",
        "client.download_media(messages[0])\n",
        "\n",
        "    from google.cloud import error_reporting\n",
        "except ImportError:\n",
        "    !pip -q install google-cloud-error-reporting\n",
        "    !pip -q install google-python-cloud-debugger\n",
        "    from google.cloud import error_reporting\n",
        "    import googleclouddebugger\n",
        "\n",
        "finally:\n",
        "    erc = error_reporting.Client(PROJECT)    # client = error_reporting.Client??\n",
        "           \n",
        "def simulate_error():\n",
        "    try:\n",
        "        # simulate calling a method that's not defined\n",
        "        raise NameError\n",
        "    except Exception:\n",
        "        erc.report_exception()\n",
        "        \n",
        "if DEBUG:\n",
        "    googleclouddebugger.enable(\n",
        "        module=MODULE,\n",
        "        version=VERSION\n",
        "    )\n",
        "    simulate_error()\n",
        "\n",
        " "
      ],
      "execution_count": 0,
      "outputs": []
    },
    {
      "metadata": {
        "id": "h9HHywRhCaw-",
        "colab_type": "code",
        "colab": {}
      },
      "cell_type": "code",
      "source": [
        "simulate_error()"
      ],
      "execution_count": 0,
      "outputs": []
    },
    {
      "metadata": {
        "id": "NGy07udFQr7r",
        "colab_type": "text"
      },
      "cell_type": "markdown",
      "source": [
        "### Telethon Library"
      ]
    },
    {
      "metadata": {
        "id": "yXR_u3vsXQmv",
        "colab_type": "code",
        "colab": {}
      },
      "cell_type": "code",
      "source": [
        "try:\n",
        "    import telethon\n",
        "except ModuleNotFoundError as e:\n",
        "    !pip -q install telethon\n",
        "    import telethon\n",
        "finally:\n",
        "    from telethon.tl.functions.users import GetFullUserRequest\n",
        "    from telethon.errors import SessionPasswordNeededError\n",
        "    from telethon import TelegramClient\n",
        "    from telethon import utils\n",
        "    if LOGGING:\n",
        "        logging.getLogger('telethon').setLevel(level=logging.WARNING)\n",
        "        prnt('Logging enabled at {}'.format(logging.WARNING))\n",
        "    import getpass"
      ],
      "execution_count": 0,
      "outputs": []
    },
    {
      "metadata": {
        "id": "u1Batyu02lij",
        "colab_type": "text"
      },
      "cell_type": "markdown",
      "source": [
        "Get your own `api_hash` and  `api_id` at [https;//my.telegram.org](https://my.telegram.org) these should be unique for your own notebook/application  "
      ]
    },
    {
      "metadata": {
        "id": "XD7AJzF17P6x",
        "colab_type": "code",
        "colab": {}
      },
      "cell_type": "code",
      "source": [
        "#@title App secrets { vertical-output: true, display-mode: \"both\" }\n",
        "api_hash = \"d1d369768ccd7c0888a55d9ef3ad1e86\" #@param {type:\"string\"}\n",
        "api_id = 19887 #@param {type:\"integer\"}\n",
        "myphone = \"+3237414562\" #@param {type:\"string\"}\n",
        "forceSMS = True #@param {type:\"boolean\"}\n",
        "debug = True #@param {type:\"boolean\"}"
      ],
      "execution_count": 0,
      "outputs": []
    },
    {
      "metadata": {
        "id": "YRASIsIl4mBe",
        "colab_type": "text"
      },
      "cell_type": "markdown",
      "source": [
        "Now wth the connection parameters, app id and hash we can establish a connection to the telegram servers by creating a `TelegramClient()` please note that\n",
        "\n",
        "\n",
        "*   Common error conditions are handled\n",
        "*   we should check for the existance of the `.session` file to avoid constantly hitting the auth API\n",
        "*   Some of the parameters to the [`Telethon.client.start()`](https://telethon.readthedocs.io/en/latest/telethon.html#module-telethon.telegram_client) instance methods, specfically `phone_no`and `auth2fa`should be the names of callback functions. The idea is to enable automation by providing a hook to get the required data trough a procedure you define on this function. it could for example invoke the secrets handling api from google cloud encryption management, or query an `etcd` server in your Kubernetes cluster, or just display a form. in this case the callback will just return the value of the global variable defined on the form above, but you may get creative here. \n",
        "\n"
      ]
    },
    {
      "metadata": {
        "id": "LoZoxTD1t484",
        "colab_type": "code",
        "colab": {}
      },
      "cell_type": "code",
      "source": [
        "def phoneno():\n",
        "    return myphone\n",
        "\n",
        "def auth2fa():\n",
        "    return getpass.getpass('Enter your 2FA password: ')\n",
        "\n",
        "def reauthorize():\n",
        "    client.start(phoneno,auth2fa)\n",
        "\n",
        "\n",
        "client = TelegramClient('session_name', api_id, api_hash)\n",
        "\n",
        "if not client.is_connected():\n",
        "    print('Not connected')\n",
        "    if not client.is_user_authorized():\n",
        "        print ('not Authorized')\n",
        "        client.start(phoneno,auth2fa)\n",
        "    else:\n",
        "        print('a')\n",
        "else:\n",
        "    print('b')\n",
        "       "
      ],
      "execution_count": 0,
      "outputs": []
    },
    {
      "metadata": {
        "id": "XZuAGFwVTXY_",
        "colab_type": "text"
      },
      "cell_type": "markdown",
      "source": [
        "## Getting data from the Telegram API"
      ]
    },
    {
      "metadata": {
        "id": "h4vrx4qOYZre",
        "colab_type": "text"
      },
      "cell_type": "markdown",
      "source": [
        "### Get your own info\n",
        "\n",
        "This may be the most basic call."
      ]
    },
    {
      "metadata": {
        "id": "eauFxC2_-Qr9",
        "colab_type": "code",
        "colab": {}
      },
      "cell_type": "code",
      "source": [
        "me = client.get_me()\n",
        "\n",
        "me \n",
        "\n",
        "if debug:\n",
        "    print(me.user.stringify())"
      ],
      "execution_count": 0,
      "outputs": []
    },
    {
      "metadata": {
        "id": "31zyDZY09EAu",
        "colab_type": "text"
      },
      "cell_type": "markdown",
      "source": [
        "Anolther way of doing it, which wiill get the full user object instead:"
      ]
    },
    {
      "metadata": {
        "id": "hhKyqwgsuYon",
        "colab_type": "code",
        "colab": {}
      },
      "cell_type": "code",
      "source": [
        "me=client(GetFullUserRequest('me'))\n",
        "\n",
        "me \n",
        "\n",
        "if debug:\n",
        "    print(me.stringify())\n",
        "    debug"
      ],
      "execution_count": 0,
      "outputs": []
    },
    {
      "metadata": {
        "id": "Cm5PN0FAcCeJ",
        "colab_type": "text"
      },
      "cell_type": "markdown",
      "source": [
        "### Get someone's `User` object"
      ]
    },
    {
      "metadata": {
        "id": "_r7ZjXDycFih",
        "colab_type": "code",
        "colab": {},
        "cellView": "form"
      },
      "cell_type": "code",
      "source": [
        "#title UserID { vertical-output: true, display-mode: \"both\" }\n",
        "UserID = \"+526692120197\" #@param {type:\"string\"}\n",
        "\n",
        "g = client(GetFullUserRequest(UserID))\n",
        "\n",
        "if debug:\n",
        "    printf(g.stringify())\n",
        "    if debug:\n",
        "        print(me.stringify())\n",
        "        debug \n",
        " "
      ],
      "execution_count": 0,
      "outputs": []
    },
    {
      "metadata": {
        "id": "DJa6SZYNddsq",
        "colab_type": "text"
      },
      "cell_type": "markdown",
      "source": [
        ""
      ]
    },
    {
      "metadata": {
        "id": "sFPaIxwuTUxk",
        "colab_type": "text"
      },
      "cell_type": "markdown",
      "source": [
        "# Listing all the dialogs (conversations you have open)\n"
      ]
    },
    {
      "metadata": {
        "id": "E3Kbkmo70zkf",
        "colab_type": "code",
        "colab": {}
      },
      "cell_type": "code",
      "source": [
        "a=client.get_dialogs()[1]\n",
        "print(a.stringify())"
      ],
      "execution_count": 0,
      "outputs": []
    },
    {
      "metadata": {
        "id": "nrlGc8Gdarvw",
        "colab_type": "code",
        "colab": {}
      },
      "cell_type": "code",
      "source": [
        "def categorize_chats(UserD):\n",
        "    ''' retrieves the data about conversation, sorting in \n",
        "    three different arrays, for users, channels and groups\n",
        "    respectibly. '''\n",
        "    \n",
        "    chatsdata = {}\n",
        "    userchats = []\n",
        "    channels =[]\n",
        "    groups =[]\n",
        "    \n",
        "    for dialog in client.get_dialogs():\n",
        "        if dialog.is_user:  \n",
        "            userchats.append(dialog)\n",
        "        elif dialog.is_channel:\n",
        "            channels.append(dialog)\n",
        "        elif  dialog.is_group:\n",
        "            groups.append(dialog)\n",
        "        else:\n",
        "            print(dialog.stringify)\n",
        "    \n",
        "    chatsdata['userchat'] = userchats\n",
        "    chatsdata['channel'] = channels\n",
        "    chatsdata['group'] = groups\n",
        "\n",
        "    return chatsdata\n",
        "        "
      ],
      "execution_count": 0,
      "outputs": []
    },
    {
      "metadata": {
        "id": "Ncu_BaD7gAHV",
        "colab_type": "text"
      },
      "cell_type": "markdown",
      "source": [
        "### Categorization"
      ]
    },
    {
      "metadata": {
        "id": "j-htlcuafej8",
        "colab_type": "code",
        "colab": {}
      },
      "cell_type": "code",
      "source": [
        "from pprint import pprint\n",
        "\n",
        "c=categorize_chats('me')\n",
        "d=categorize_chats('me')['userchanel']\n",
        "e=d[1]\n",
        "\n",
        "e.name\n",
        "\n",
        "for cat in c:\n",
        "    cat\n",
        "    for i in cat:\n",
        "        print(\"  {}   {}\".format(i,i))\n",
        "    \n"
      ],
      "execution_count": 0,
      "outputs": []
    },
    {
      "metadata": {
        "id": "H3NKUqweTkwc",
        "colab_type": "text"
      },
      "cell_type": "markdown",
      "source": [
        "\n",
        "### Sending a message (you can use 'me' or 'self' to message yourself)\n"
      ]
    },
    {
      "metadata": {
        "id": "ynAST-RTTlws",
        "colab_type": "code",
        "colab": {}
      },
      "cell_type": "code",
      "source": [
        "d.m=client.send_message('mtxto', 'Hello World from Telethon!')\n",
        "m.chat.status.stringify()\n"
      ],
      "execution_count": 0,
      "outputs": []
    },
    {
      "metadata": {
        "id": "S7xGeGitVydQ",
        "colab_type": "code",
        "colab": {}
      },
      "cell_type": "code",
      "source": [
        ""
      ],
      "execution_count": 0,
      "outputs": []
    },
    {
      "metadata": {
        "id": "0x0A3U78NqGe",
        "colab_type": "code",
        "colab": {}
      },
      "cell_type": "code",
      "source": [
        "\n",
        "\n",
        "# Sending a file\n",
        "client.send_file('mtxto', '/home/myself/Pictures/holidays.jpg')\n",
        "\n",
        "# Retrieving messages from a chat\n",
        "from telethon import utils\n",
        "for message in client.iter_messages('mtxto', limit=10):\n",
        "    print(utils.get_display_name(message.sender), message.message)\n",
        "\n",
        "# Listing all the dialogs (conversations you have open)\n",
        "for dialog in client.get_dialogs(limit=10):\n",
        "    print(utils.get_display_name(dialog.entity), dialog.draft.text)\n",
        "\n",
        "# Downloading profile photos (default path is the working directory)\n",
        "client.download_profile_photo('mtxto')\n",
        "\n",
        "# Once you have a message with .media (if message.media)\n",
        "# you can download it using client.download_media():\n",
        "messages = client.get_messages('mtxto')\n",
        "client.download_media(messages[0])"
      ],
      "execution_count": 0,
      "outputs": []
    }
  ]
}