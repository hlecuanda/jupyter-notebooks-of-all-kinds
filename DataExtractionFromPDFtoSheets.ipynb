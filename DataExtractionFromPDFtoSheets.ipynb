{
  "nbformat": 4,
  "nbformat_minor": 0,
  "metadata": {
    "colab": {
      "name": "DataExtractionFromPDFtoSheets.ipynb",
      "version": "0.3.2",
      "provenance": [],
      "private_outputs": true,
      "collapsed_sections": [
        "n43hMEjLjoU7"
      ],
      "toc_visible": true,
      "include_colab_link": true
    },
    "kernelspec": {
      "name": "python3",
      "display_name": "Python 3"
    }
  },
  "cells": [
    {
      "cell_type": "markdown",
      "metadata": {
        "id": "view-in-github",
        "colab_type": "text"
      },
      "source": [
        "[View in Colaboratory](https://colab.research.google.com/github/hlecuanda/jupyter-notebooks-of-all-kinds/blob/master/DataExtractionFromPDFtoSheets.ipynb)"
      ]
    },
    {
      "metadata": {
        "id": "80Y7sH0ve36e",
        "colab_type": "text"
      },
      "cell_type": "markdown",
      "source": [
        "# Data extraction from PDF documents to Google Sheets\n",
        "\n",
        "\n",
        "---\n",
        "\n",
        "This is an example documenting how to extract data from a PDF document, in this case a Bank Statement from Chase Bank, taking advantage of Drive's export capability to capture text while doing document conversion (We instruct via API to \"save\" the PDF document as a Docs document, then we export the text from the Docs document using the \n",
        "\n",
        "    files().export(fileId=doc['id'],mimeType='text/plain')\n",
        "    \n",
        "API method.We will iterate thropugh a directory listing of such documents, extractig only the bits we areinterested in, reading each value (in this case, all the deposits ) into a python array. \n",
        "\n",
        "Finally we will iterate through this python array, creating cell objects from the `gsheets` library which gives us a nice pythonic way to tlk to the sheets API\n",
        "\n",
        "Finally, we will send some requests to the raw Sheets API in order to autosize columns and furhter refine presentation on our worksheet. The reason to send raw requests to the API is because `gsheets` does not support v4 of the API yet where this methods were introduced. \n",
        "\n",
        "![spreadsheet][1]\n",
        "\n",
        "The final product is a report that can be used to create pivot tables, more detailed analysis, perhaps export to *BigQuery*, or in this case, drive the automation of a terminal-only accounting package written in COBOL (Passport Software's PBS) having a terminal interface affords the possibility to import structured data via copy-paste by carefuly adding \"keystroke\" sequences to the datastream. This could be done directly in python, however a spreadsheet already exists wth the formulas necessary for that processing step, so we take advantage of that fact. \n",
        "\n",
        "[1]:https://docs.google.com/drawings/d/e/2PACX-1vRqdf_2TeKzERIkFVmtpxji2-2NmKATNVLh8nYXNmSN68peeSpHLvfpevHrwJsQr43OilHNPJpzmPik/pub?w=794&h=465"
      ]
    },
    {
      "metadata": {
        "id": "Bid7_rXNfVi3",
        "colab_type": "text"
      },
      "cell_type": "markdown",
      "source": [
        "## Import auxiliary Libraries and software dependencies "
      ]
    },
    {
      "metadata": {
        "id": "kxRlVGCDfqr6",
        "colab_type": "text"
      },
      "cell_type": "markdown",
      "source": [
        "This section checks whether the required libraries have been installed in the current notebook. If this raises an exception, (For example, if the libraries are notavailable), the exception block will install the libraries.\n",
        "\n",
        "The important auxiliary library is [gspread](http://gspread.readthedocs.io/en/latest/) plus the oauth2 client library and the GoogleAPI python client discovery based libraries.\n"
      ]
    },
    {
      "metadata": {
        "id": "HskUipPPIw_w",
        "colab_type": "code",
        "colab": {}
      },
      "cell_type": "code",
      "source": [
        "try:\n",
        "    from oauth2client.service_account import ServiceAccountCredentials\n",
        "    from google.oauth2 import service_account\n",
        "    import gspread\n",
        "except:\n",
        "    !pip install google-auth google-auth-httplib2 google-api-python-client gspread\n",
        "    from oauth2client.service_account import ServiceAccountCredentials\n",
        "    import gspread\n",
        "    # from gspread.models import Cell\n",
        "finally:\n",
        "    import re\n",
        "    import sys\n",
        "    import httplib2\n",
        "    from apiclient import discovery\n",
        "    from google.colab import files\n",
        "    from google.colab import output\n",
        "\n"
      ],
      "execution_count": 0,
      "outputs": []
    },
    {
      "metadata": {
        "id": "8r5jh9hvhs1S",
        "colab_type": "text"
      },
      "cell_type": "markdown",
      "source": [
        "## Authorization procedure"
      ]
    },
    {
      "metadata": {
        "id": "JWnBl-NMiIav",
        "colab_type": "text"
      },
      "cell_type": "markdown",
      "source": [
        "This is a modified Oauth2 procedure, used when [Domain Wide Delegation](https://developers.google.com/identity/protocols/OAuth2ServiceAccount?hl=en_US#delegatingauthority) has been applied. [The procedure has been taken from this StackOverflow](https://stackoverflow.com/questions/49374112/google-service-account-cant-impersonate-gsuite-user) reference. \n",
        "\n",
        "The authorization flow has been simplified using a service account instead of the usual auth flow. This requires:\n",
        "\n",
        "*   A service account from the project's [API console's Credentials Section](https://console.cloud.google.com/apis/credentials?project=mezaops&organizationId=1063501829322). This will furnish a key file that you need to upload on this notebook\n",
        "*   The client defined for the service account above, has to be authorized for the required scopes via the[ Domain's Admin Console](https://admin.google.com/lecuanda.com/AdminHome?chromeless=1#OGX:ManageOauthClients). \n",
        "\n",
        "\n",
        "The `try ... except` block will check whether the authorization file containing the encryption certificate has been loaded on the notebook. If it has not been loaded, it willopen a dialog for the user to upload the authorization file.\n",
        "\n",
        "If you don't have the authorization file, please request it from your domain Admin. \n",
        "\n",
        "Finallym the `credentials.create_delegated()` method from the oauth2 clent will allow you to impersonate the user that has been used as parameter to this method.\n",
        "\n",
        "\n"
      ]
    },
    {
      "metadata": {
        "id": "98OIZo3jdgiK",
        "colab_type": "code",
        "colab": {}
      },
      "cell_type": "code",
      "source": [
        "SERVICE_ACCOUNT_FILE = 'MezaOps-9483d786f5ef.json'\n",
        "\n",
        "SCOPES = ['https://www.googleapis.com/auth/drive',\n",
        "          'https://www.googleapis.com/auth/drive.file',\n",
        "          'https://www.googleapis.com/auth/drive.metadata.readonly',\n",
        "          'https://www.googleapis.com/auth/spreadsheets']\n",
        "\n",
        "try:\n",
        "    with open(SERVICE_ACCOUNT_FILE, \"r\") as f:\n",
        "        print()\n",
        "except:\n",
        "    uploaded = files.upload()\n",
        "\n",
        "    for fn in uploaded.keys():\n",
        "        print('User uploaded file \"{name}\" with length {length} bytes'.format(\n",
        "                name=fn, length=len(uploaded[fn])))\n",
        "finally:\n",
        "    credentials = ServiceAccountCredentials.from_json_keyfile_name(\n",
        "        SERVICE_ACCOUNT_FILE, scopes=SCOPES)\n",
        "\n",
        "\n",
        "delegated_credentials = credentials.create_delegated('hector@lecuanda.com')  \n",
        "delegated_http = delegated_credentials.authorize(httplib2.Http())\n",
        "drive  = discovery.build('drive', 'v3', http=delegated_http)\n",
        "sheets = discovery.build('sheets','v4', http=delegated_http)"
      ],
      "execution_count": 0,
      "outputs": []
    },
    {
      "metadata": {
        "id": "ImBYaEN-oxeV",
        "colab_type": "text"
      },
      "cell_type": "markdown",
      "source": [
        "## Report Parameters"
      ]
    },
    {
      "metadata": {
        "id": "En-cdx8SpYFW",
        "colab_type": "text"
      },
      "cell_type": "markdown",
      "source": [
        "Fill in this form with the Google drive URL Key of the file that contains the PDF statements to extract data from. It will update the `docs` variable to contain all documents to beprocessed"
      ]
    },
    {
      "metadata": {
        "id": "XEsPtBLykjqw",
        "colab_type": "code",
        "colab": {}
      },
      "cell_type": "code",
      "source": [
        "#@title Directory id { run: \"auto\", vertical-output: true, output-height: 100, form-width: \"50%\", display-mode: \"form\" }\n",
        "dir_id = \"1kghdjPxiHRvQY2sQa1koli2csSGqni8_\" #@param {type:\"string\"}\n",
        "drivequery=\"'{}' in parents and mimeType = \\\n",
        "'application/vnd.google-apps.document'\".format(dir_id)\n",
        "docs = drive.files().list(q=drivequery).execute()\n",
        "\n",
        "print(\"{} documents selected\".format(len(docs['files'])))\n"
      ],
      "execution_count": 0,
      "outputs": []
    },
    {
      "metadata": {
        "id": "b5L5WANkqkCK",
        "colab_type": "text"
      },
      "cell_type": "markdown",
      "source": [
        "## Aux Routines"
      ]
    },
    {
      "metadata": {
        "id": "ynV05HS_q1Mt",
        "colab_type": "text"
      },
      "cell_type": "markdown",
      "source": [
        "Here, we define two routines that do the actual data extraction using the drive API"
      ]
    },
    {
      "metadata": {
        "id": "fvOfgCW10eDL",
        "colab_type": "code",
        "colab": {}
      },
      "cell_type": "code",
      "source": [
        "\n",
        "def get_yymm(instring):\n",
        "    ''' Gets the year and month for the statement being processed from the\n",
        "        file name. We need this because the Chase Statements format omit \n",
        "        the year on the transaction detials'''\n",
        "    yy=instring[0:4]\n",
        "    mm=instring[4:6]\n",
        "    return \"{}-{}\".format(yy,mm)\n",
        "\n",
        "def get_text_from_statements(doclist):\n",
        "    ''' Iterates through the drive files, exportsthe text, and filters it \n",
        "        through a compiled regular expresion, appending all data items to\n",
        "        a list that will get returned. Also, correctthe date on each item by\n",
        "        adding the year extracted fromthe filename'''\n",
        "    deposits=[]\n",
        "    ctr=0\n",
        "    regex=re.compile('^\\S{5}\\sDeposit\\s\\S+$')\n",
        "    with output.use_tags('extractdata'):\n",
        "        sys.stdout.write('processing:\\n')\n",
        "        sys.stdout.flush()\n",
        "    \n",
        "    for doc in doclist:\n",
        "        yymm=get_yymm(doc['name'])\n",
        "        curr_statement=drive.files().export(fileId=doc['id'],mimeType='text/plain').execute()\n",
        "        for line in curr_statement.decode().split('\\r\\n'):\n",
        "            if regex.match(line):\n",
        "                mo=line[0:2]\n",
        "                dy=line[3:5]\n",
        "                rest=line.split(' ')[2]\n",
        "                deposits.append(\"{}-{},{:03.2f}\".format(yymm,dy,float(rest.replace(\",\",\"\").replace(\"$\",\"\"))))\n",
        "\n",
        "                with output.use_tags('extractdata'):\n",
        "                    sys.stdout.write('.')\n",
        "                    sys.stdout.flush()\n",
        "                ctr=ctr+1\n",
        "                if ctr % 50 == 0:\n",
        "                    with output.use_tags('extractdata'):\n",
        "                        sys.stdout.write('{}\\n'.format(ctr))\n",
        "                        sys.stdout.flush()    \n",
        "                    \n",
        "    output.clear(output_tags='extractdata')\n",
        "    print(\"processed {} records\".format(ctr))\n",
        "    return deposits"
      ],
      "execution_count": 0,
      "outputs": []
    },
    {
      "metadata": {
        "id": "fT36skDjsEkf",
        "colab_type": "text"
      },
      "cell_type": "markdown",
      "source": [
        "This call extracts the selected data, dumping it to the `data`  global var"
      ]
    },
    {
      "metadata": {
        "id": "xwrQ0uszqbk8",
        "colab_type": "code",
        "colab": {}
      },
      "cell_type": "code",
      "source": [
        "data=get_text_from_statements(docs['files'])    "
      ],
      "execution_count": 0,
      "outputs": []
    },
    {
      "metadata": {
        "id": "0L_aKIw9shT5",
        "colab_type": "text"
      },
      "cell_type": "markdown",
      "source": [
        "## Export data to a spreadhseet"
      ]
    },
    {
      "metadata": {
        "id": "OEmR1t5DkPST",
        "colab_type": "text"
      },
      "cell_type": "markdown",
      "source": [
        "### Helper functions for display on sheets"
      ]
    },
    {
      "metadata": {
        "id": "ndlyquITd_hK",
        "colab_type": "code",
        "colab": {}
      },
      "cell_type": "code",
      "source": [
        "def pdate(isodate):\n",
        "    '''\n",
        "    >>> d='2015-02-01'\n",
        "    >>> print(pdate(d))\n",
        "    020115\n",
        "    '''\n",
        "    yy=isodate[2:4]\n",
        "    mm=isodate[5:7]\n",
        "    dd=isodate[8:]\n",
        "    return \"{}{}{}\".format(mm,dd,yy)\n",
        "\n",
        "\n",
        "\n",
        "def automation(datarow):\n",
        "    '''\n",
        "    >>> datarow = ['2015-02-01','1240.00']\n",
        "    >>> print(automation(datarow))\n",
        "    1010\\n01\\n020115\\n020115\\nDeposit from spreadsheet\\n\\n1099\\n\\01\\n\\e\n",
        "    '''\n",
        "    autostr='1010\\\\n01\\\\n{}\\\\n{}\\\\nDeposit from spreadsheet\\\\n\\\\n1099\\\\n\\\\01\\\\n\\\\e'\n",
        "    return autostr.format(pdate(datarow[0]),pdate(datarow[0]),datarow[1])\n",
        "\n"
      ],
      "execution_count": 0,
      "outputs": []
    },
    {
      "metadata": {
        "id": "GAD-_TNlsr7D",
        "colab_type": "text"
      },
      "cell_type": "markdown",
      "source": [
        "This code block creates a Google Spreadsheet, selects a range and then dumps each value from the `data` variable into the newly created spreadsheet\n"
      ]
    },
    {
      "metadata": {
        "id": "xfn03BxCCp9x",
        "colab_type": "code",
        "colab": {}
      },
      "cell_type": "code",
      "source": [
        "gc = gspread.authorize(delegated_credentials)\n",
        "Cell = gspread.models.Cell\n",
        "shid = '15cCd61zbSO3Y4JrEolGg9WtT2w2Ig_KQRWGgrfe83os'\n",
        "\n",
        "try:\n",
        "    sh = gc.open_by_key(shid)\n",
        "except:\n",
        "    sh = gc.create('Deposits')\n",
        "    shid = sh.id\n",
        "finally:\n",
        "    print(sh)\n",
        " \n",
        "worksheet = sh.sheet1\n",
        "\n",
        "if (worksheet.row_count < len(data)):\n",
        "    extra_rows=len(data)-worksheet.row_count\n",
        "    print(\"adding {} rows\".format(extra_rows))\n",
        "    worksheet.resize(len(data)+3,4)\n",
        "\n",
        "print(\"new worksheet rows: {}\".format(worksheet.row_count))\n",
        "\n",
        "cells = []\n",
        "for row in range(0,len(data)):\n",
        "    datarow=[]\n",
        "    \n",
        "    yearcell=Cell(row+2,1 )\n",
        "    monthcell=Cell(row+2,2 )\n",
        "    yearmonthcell=Cell(row+2, 3)\n",
        "    datecell=Cell(row+2,4)\n",
        "    valuecell=Cell(row+2,5)\n",
        "    formulacell=Cell(row+2,6)\n",
        "    \n",
        "    datarow=data[row].split(\",\")\n",
        "    yearcell.value=\"=year(D{})\".format(row+2)\n",
        "    monthcell.value=\"=month(D{})\".format(row+2)\n",
        "    yearmonthcell.value='=join(\"-\",A{},B{})'.format(row+2,row+2)\n",
        "    datecell.value=datarow[0]\n",
        "    valuecell.value=datarow[1]\n",
        "    formulacell.value=automation(datarow)\n",
        "    \n",
        "    cells.append(yearcell)\n",
        "    cells.append(monthcell)\n",
        "    cells.append(yearmonthcell)\n",
        "    cells.append(datecell)\n",
        "    cells.append(valuecell)\n",
        "    cells.append(formulacell)\n",
        "    \n",
        "worksheet.update_cells(cells,'USER_ENTERED')\n",
        "\n",
        "worksheet.update_cell(1,1,\"Year\")\n",
        "worksheet.update_cell(1,2,\"Month\")\n",
        "worksheet.update_cell(1,3,\"YearMonth\")\n",
        "worksheet.update_cell(1,4,\"Date\")\n",
        "worksheet.update_cell(1,5,\"Amount\")\n",
        "worksheet.update_cell(1,6,\"Automation\")\n",
        "\n",
        "# Go to https://sheets.google.com to see your new spreadsheet."
      ],
      "execution_count": 0,
      "outputs": []
    },
    {
      "metadata": {
        "id": "GyLcsTim9BPc",
        "colab_type": "text"
      },
      "cell_type": "markdown",
      "source": [
        "### Spreadsheet formatting"
      ]
    },
    {
      "metadata": {
        "id": "4jvgTU-ojdOG",
        "colab_type": "text"
      },
      "cell_type": "markdown",
      "source": [
        "#### Column Sorting"
      ]
    },
    {
      "metadata": {
        "id": "6GPqmiLjJ2P-",
        "colab_type": "code",
        "colab": {}
      },
      "cell_type": "code",
      "source": [
        "Sorting=json.dumps(''' \n",
        "      \"sortRange\": {\n",
        "        \"range\": {\n",
        "          \"startRowIndex\": 1,\n",
        "          \"endRowIndex\": 1199,\n",
        "          \"startColumnIndex\": 0,\n",
        "          \"endColumnIndex\": 2,\n",
        "          \"sheetId\": 0\n",
        "        },\n",
        "        \"sortSpecs\": [\n",
        "          {\n",
        "            \"dimensionIndex\": 0,\n",
        "            \"sortOrder\": \"ASCENDING\"\n",
        "          },\n",
        "          {\n",
        "            \"dimensionIndex\": 1,\n",
        "            \"sortOrder\": \"ASCENDING\"\n",
        "          }\n",
        "        ]\n",
        "      }\n",
        "  ''')"
      ],
      "execution_count": 0,
      "outputs": []
    },
    {
      "metadata": {
        "id": "n43hMEjLjoU7",
        "colab_type": "text"
      },
      "cell_type": "markdown",
      "source": [
        "#### Column Width Auto Adjustment"
      ]
    },
    {
      "metadata": {
        "id": "iC-zJowBj0Gm",
        "colab_type": "code",
        "colab": {}
      },
      "cell_type": "code",
      "source": [
        "Autoadjust='''{\n",
        "      \"autoResizeDimensions\": {\n",
        "        \"dimensions\": {\n",
        "          \"sheetId\": sheetId,\n",
        "          \"dimension\": \"COLUMNS\",\n",
        "          \"startIndex\": 0,\n",
        "          \"endIndex\": 6\n",
        "        }\n",
        "      }\n",
        "    }''' "
      ],
      "execution_count": 0,
      "outputs": []
    },
    {
      "metadata": {
        "id": "SNiLe_GseWzM",
        "colab_type": "text"
      },
      "cell_type": "markdown",
      "source": [
        "#### Formatting"
      ]
    },
    {
      "metadata": {
        "id": "2qHQucxGeUiv",
        "colab_type": "code",
        "colab": {}
      },
      "cell_type": "code",
      "source": [
        "CellFormat ='''{\n",
        "      \"repeatCell\": {\n",
        "        \"range\": {\n",
        "          \"sheetId\": sheetId,\n",
        "          \"startRowIndex\": 0,\n",
        "          \"endRowIndex\": 10,\n",
        "          \"startColumnIndex\": 0,\n",
        "          \"endColumnIndex\": 6\n",
        "        },\n",
        "        \"cell\": {\n",
        "          \"userEnteredFormat\": {\n",
        "            \"numberFormat\": {\n",
        "              \"type\": \"NUMBER\",\n",
        "              \"pattern\": \"#,##0.00\"\n",
        "            }\n",
        "          }\n",
        "        },\n",
        "        \"fields\": \"userEnteredFormat.numberFormat\"\n",
        "      }\n",
        "    }'''\n"
      ],
      "execution_count": 0,
      "outputs": []
    },
    {
      "metadata": {
        "id": "YhY59UMtf2Er",
        "colab_type": "text"
      },
      "cell_type": "markdown",
      "source": [
        "### Apply Formats"
      ]
    },
    {
      "metadata": {
        "id": "zsIWCvzN37kX",
        "colab_type": "code",
        "colab": {}
      },
      "cell_type": "code",
      "source": [
        "requests=[]\n",
        "import json\n",
        "import pprint\n",
        "\n",
        "requests.append(Sorting)\n",
        "requests.append(CellFormat)\n",
        "requests.append(Autoadjust)\n",
        "#requests.append()\n",
        "body = {\n",
        "    'requests': requests\n",
        "}\n",
        "response = sheets.spreadsheets().batchUpdate(spreadsheetId=shid,body=body).execute()\n"
      ],
      "execution_count": 0,
      "outputs": []
    },
    {
      "metadata": {
        "id": "tXoK55-zb8rh",
        "colab_type": "text"
      },
      "cell_type": "markdown",
      "source": [
        ""
      ]
    }
  ]
}