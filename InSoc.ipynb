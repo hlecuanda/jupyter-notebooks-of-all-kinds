{
  "nbformat": 4,
  "nbformat_minor": 0,
  "metadata": {
    "colab": {
      "name": "InSoc.ipynb",
      "version": "0.3.2",
      "provenance": [],
      "toc_visible": true,
      "include_colab_link": true
    },
    "kernelspec": {
      "name": "python3",
      "display_name": "Python 3"
    },
    "accelerator": "GPU"
  },
  "cells": [
    {
      "cell_type": "markdown",
      "metadata": {
        "id": "view-in-github",
        "colab_type": "text"
      },
      "source": [
        "[View in Colaboratory](https://colab.research.google.com/github/hlecuanda/jupyter-notebooks-of-all-kinds/blob/master/InSoc.ipynb)"
      ]
    },
    {
      "metadata": {
        "id": "OdSY3-pK_S0A",
        "colab_type": "text"
      },
      "cell_type": "markdown",
      "source": [
        "# Decoding data hidden in Information Society's Songs from the album \"HACK\""
      ]
    },
    {
      "metadata": {
        "id": "3oqkVNkoDCE0",
        "colab_type": "text"
      },
      "cell_type": "markdown",
      "source": [
        "## Background\n",
        "\n",
        "I have been a long time an of [Information Society][1]. One of their best albums, as any diehard fan knows is, of course ***[HACK][2]*** (Released Oct 16, 1990).\n",
        "\n",
        "\n",
        "In this album there are two tracks that contain data as part of the music, in particular there is a phone number encoded using ***dual tone multiple frequency signaling*** (or **[DTMF][3]** for short) at the beginning of track  titled #8 *\"Hard currency\"*.  \n",
        "\n",
        "I'm sure that someone has already decoded al this, some time in the almost 20 years since it was released, and I could just google it, but, *where is the fun in that?* \n",
        "\n",
        "So this notebook is an attempt to decode the data using python tools and libraries. \n",
        "\n",
        "**NOTE**: This notebook is intended for those new to python, jupyter notebooks and colab, so explanations may be a bit on the verbose side.\n",
        "\n",
        "\n",
        "[1]: https://informationsociety.us/\n",
        "[2]: https://en.wikipedia.org/wiki/Hack_(album)\n",
        "[3]: https://en.wikipedia.org/wiki/Dual-tone_multi-frequency_signaling"
      ]
    },
    {
      "metadata": {
        "id": "ijcH1BYXXe6X",
        "colab_type": "text"
      },
      "cell_type": "markdown",
      "source": [
        "## Download the required libraries\n",
        "\n",
        "We need to install youtube-dl and ffmpeg. this will generate a sizable output, so we use colab's output handling to keep things tidy."
      ]
    },
    {
      "metadata": {
        "id": "yrB7XTDlURX3",
        "colab_type": "code",
        "colab": {
          "base_uri": "https://localhost:8080/",
          "height": 102
        },
        "outputId": "41dec06f-f9c6-4573-8e78-a7bb65538e87"
      },
      "cell_type": "code",
      "source": [
        "!pip install youtube-dl # for song download\n",
        "!pip install pydub      # splitting audio files and stuff\n",
        "\n",
        "import sys\n",
        "import time\n",
        "from google.colab import output\n",
        "\n",
        "def aptget(cmd):\n",
        "    tag='apt-get-{}'.format(cmd.replace(' ','-'))\n",
        "    with output.use_tags(tag):\n",
        "        print('Executing {} \\n'.format(cmd))\n",
        "        !apt-get $cmd\n",
        "        sys.stdout.flush()\n",
        "        \n",
        "    output.clear(output_tags=tag)\n",
        "    print('Executing {} ... Done. (output hidden for tidyness)'.format(cmd))\n",
        "    \n",
        "aptget('update')\n",
        "aptget('upgrade')\n",
        "aptget('install ffmpeg')\n",
        "\n",
        "\n",
        "\n",
        "import math\n",
        "import struct\n",
        "import wave\n",
        "\n",
        "import matplotlib.pyplot as plt\n",
        "import numpy as np\n",
        "\n",
        "from pydub import AudioSegment"
      ],
      "execution_count": 1,
      "outputs": [
        {
          "output_type": "stream",
          "text": [
            "Requirement already satisfied: youtube-dl in /usr/local/lib/python3.6/dist-packages (2018.9.26)\n",
            "Requirement already satisfied: pydub in /usr/local/lib/python3.6/dist-packages (0.23.0)\n",
            "Executing update ... Done. (output hidden for tidyness)\n",
            "Executing upgrade ... Done. (output hidden for tidyness)\n",
            "Executing install ffmpeg ... Done. (output hidden for tidyness)\n"
          ],
          "name": "stdout"
        }
      ]
    },
    {
      "metadata": {
        "id": "9MEjTbCOHHRI",
        "colab_type": "text"
      },
      "cell_type": "markdown",
      "source": [
        "## Hard Currency\n",
        "\n",
        "The song in question is one of my favorites, consisting of mostly sampled dialogue from star trek and other movies where they mention increasing amounts of money, repeatedly. The lyirics are very simple and purportedly, a criticism of materialism and those who seek financial rewards over intelectual pursuits. Or it could be just samples that sound good together. \n",
        "\n",
        "However, the first couple of seconds do incliude a distinctive sound that we can all recognize as a phone dialer doing it's thing: DTMF.\n",
        "\n",
        "Let's find out what data, if any is encoded in this track.\n",
        "\n"
      ]
    },
    {
      "metadata": {
        "id": "oLgEN3uJC5JL",
        "colab_type": "code",
        "colab": {
          "base_uri": "https://localhost:8080/",
          "height": 336
        },
        "outputId": "c16a428d-d92e-40fe-cb98-d452cee4e11d"
      },
      "cell_type": "code",
      "source": [
        "%%html\n",
        "<iframe width=\"560\" \n",
        "        height=\"315\" \n",
        "        src=\"https://www.youtube-nocookie.com/embed/xTONw5gQXJY?rel=0\" \n",
        "        frameborder=\"0\" \n",
        "        allow=\"encrypted-media\" \n",
        "        allowfullscreen>\n",
        "</iframe>\n"
      ],
      "execution_count": 2,
      "outputs": [
        {
          "output_type": "display_data",
          "data": {
            "text/html": [
              "<iframe width=\"560\" \n",
              "        height=\"315\" \n",
              "        src=\"https://www.youtube-nocookie.com/embed/xTONw5gQXJY?rel=0\" \n",
              "        frameborder=\"0\" \n",
              "        allow=\"encrypted-media\" \n",
              "        allowfullscreen>\n",
              "</iframe>"
            ],
            "text/plain": [
              "<IPython.core.display.HTML object>"
            ]
          },
          "metadata": {
            "tags": []
          }
        }
      ]
    },
    {
      "metadata": {
        "id": "HcLZ-573Qoqy",
        "colab_type": "text"
      },
      "cell_type": "markdown",
      "source": [
        "Downloading audio from a youtube video is outside the scope of this notebook, however we do have the aforementioned first few seconds available here:\n"
      ]
    },
    {
      "metadata": {
        "id": "z0m5IeC9WxmP",
        "colab_type": "code",
        "colab": {
          "base_uri": "https://localhost:8080/",
          "height": 136
        },
        "outputId": "78e9aae5-d0ad-4759-d24a-2896031a6ee6"
      },
      "cell_type": "code",
      "source": [
        "# Uncomment to re-download file \n",
        "#!rm -v *.wav\n",
        "\n",
        "import youtube_dl\n",
        "\n",
        "HARDCURRENCY_ID='xTONw5gQXJY'\n",
        "HARDCURRENCY_WAV='{}.wav'.format(HARDCURRENCY_ID)\n",
        "DTMF = 'DTMF.wav'\n",
        "\n",
        "ydl_opts = {\n",
        "    'format': 'bestaudio/best',\n",
        "    'outtmpl':'%(id)s.%(ext)s',\n",
        "\n",
        "    'postprocessors': [{\n",
        "        'key': 'FFmpegExtractAudio',\n",
        "        'preferredcodec': 'wav',\n",
        "        'preferredquality': '192',\n",
        "    }],\n",
        "}\n",
        "\n",
        "with youtube_dl.YoutubeDL(ydl_opts) as ydl:\n",
        "    ydl.download(['http://www.youtube.com/watch?v={}'.format(HARDCURRENCY_ID)])\n",
        "    \n"
      ],
      "execution_count": 3,
      "outputs": [
        {
          "output_type": "stream",
          "text": [
            "[youtube] xTONw5gQXJY: Downloading webpage\n",
            "[youtube] xTONw5gQXJY: Downloading video info webpage\n",
            "[download] Destination: xTONw5gQXJY.m4a\n",
            "[download] 100% of 2.34MiB in 00:00\n",
            "[ffmpeg] Correcting container in \"xTONw5gQXJY.m4a\"\n",
            "[ffmpeg] Destination: xTONw5gQXJY.wav\n",
            "Deleting original file xTONw5gQXJY.m4a (pass -k to keep)\n"
          ],
          "name": "stdout"
        }
      ]
    },
    {
      "metadata": {
        "id": "k2N4aYQ51una",
        "colab_type": "text"
      },
      "cell_type": "markdown",
      "source": [
        "We now define `plot_wave` and  `slice_wave` so we can use them repeatedly\n"
      ]
    },
    {
      "metadata": {
        "id": "rukI1gWikp5i",
        "colab_type": "code",
        "colab": {}
      },
      "cell_type": "code",
      "source": [
        "def plot_wave(wavefile,title=\"\"):\n",
        "    ''' Plots a Waveform '''\n",
        "\n",
        "    spf = wave.open(wavefile,'r')\n",
        "\n",
        "    #Extract Raw Audio from Wav File\n",
        "    signal = spf.readframes(-1)\n",
        "    signal = np.fromstring(signal, 'Int16')\n",
        "    fs = spf.getframerate()\n",
        "\n",
        "    Time=np.linspace(0, len(signal)/fs, num=len(signal))\n",
        "\n",
        "    plt.figure(1)\n",
        "    plt.title('{} Waveform...'.format(title))\n",
        "    plt.plot(Time,signal)\n",
        "    plt.show()\n",
        "    \n",
        "def slice_wave(waveform_in,waveform_out,start_seconds,end_seconds):\n",
        "    ''' Cuts waveform from start_seconds to end_seconds, \n",
        "        writing this to waveform_out, and discarding the rest. '''\n",
        "\n",
        "    t1 = start_seconds * 1000 #Works in milliseconds\n",
        "    t2 = end_seconds  * 1000\n",
        "\n",
        "    newAudio = AudioSegment.from_wav(waveform_in)\n",
        "    newAudio = newAudio[t1:t2]\n",
        "    newAudio.export(waveform_out, format=\"wav\")\n",
        "    "
      ],
      "execution_count": 0,
      "outputs": []
    },
    {
      "metadata": {
        "id": "3s5y7JlL6kzd",
        "colab_type": "text"
      },
      "cell_type": "markdown",
      "source": [
        "Let's have a look at our recently downloaded song:"
      ]
    },
    {
      "metadata": {
        "id": "BhUN20f56bnW",
        "colab_type": "code",
        "colab": {
          "base_uri": "https://localhost:8080/",
          "height": 450
        },
        "outputId": "8eb3d4cf-6b1b-4853-b072-f6847f82c8c9"
      },
      "cell_type": "code",
      "source": [
        "\n",
        "plot_wave(HARDCURRENCY_WAV,\"Hard Currency\")"
      ],
      "execution_count": 5,
      "outputs": [
        {
          "output_type": "stream",
          "text": [
            "/usr/local/lib/python3.6/dist-packages/ipykernel_launcher.py:8: DeprecationWarning: Numeric-style type codes are deprecated and will result in an error in the future.\n",
            "  \n",
            "/usr/local/lib/python3.6/dist-packages/ipykernel_launcher.py:8: DeprecationWarning: The binary mode of fromstring is deprecated, as it behaves surprisingly on unicode inputs. Use frombuffer instead\n",
            "  \n"
          ],
          "name": "stderr"
        },
        {
          "output_type": "display_data",
          "data": {
            "image/png": "[encoded data removed]",
            "text/plain": [
              "<matplotlib.figure.Figure at 0x7f0d8f197278>"
            ]
          },
          "metadata": {
            "tags": []
          }
        }
      ]
    },
    {
      "metadata": {
        "id": "Wh4EFwHRhVbR",
        "colab_type": "text"
      },
      "cell_type": "markdown",
      "source": [
        "We only need the firstcouple of seconds from this file, which hold the DTMF data,  so we import the `AudioSegment` class from `pydub` and discard the rest."
      ]
    },
    {
      "metadata": {
        "id": "QawyYEl9hiar",
        "colab_type": "code",
        "colab": {
          "base_uri": "https://localhost:8080/",
          "height": 450
        },
        "outputId": "3fbfe450-fdd6-42f9-9bc0-7859a6084dc6"
      },
      "cell_type": "code",
      "source": [
        "START = 0\n",
        "END = 4\n",
        "\n",
        "slice_wave(HARDCURRENCY_WAV,\"DTMF1.wav\",START,END )\n",
        "plot_wave(\"DTMF1.wav\",\"DTMF\")"
      ],
      "execution_count": 6,
      "outputs": [
        {
          "output_type": "stream",
          "text": [
            "/usr/local/lib/python3.6/dist-packages/ipykernel_launcher.py:8: DeprecationWarning: Numeric-style type codes are deprecated and will result in an error in the future.\n",
            "  \n",
            "/usr/local/lib/python3.6/dist-packages/ipykernel_launcher.py:8: DeprecationWarning: The binary mode of fromstring is deprecated, as it behaves surprisingly on unicode inputs. Use frombuffer instead\n",
            "  \n"
          ],
          "name": "stderr"
        },
        {
          "output_type": "display_data",
          "data": {
            "image/png": "[encoded data removed]",
            "text/plain": [
              "<matplotlib.figure.Figure at 0x7f0d8f197cc0>"
            ]
          },
          "metadata": {
            "tags": []
          }
        }
      ]
    },
    {
      "metadata": {
        "id": "advbknRLyKo3",
        "colab_type": "text"
      },
      "cell_type": "markdown",
      "source": [
        "Visually inspecting the waveform, we can easily determine that the DTMF daa starts just before \n",
        "\n",
        "$ t=2s $ \n",
        "\n",
        "and ends around \n",
        "\n",
        "$ t=6s $\n",
        "\n",
        "Also, the very compact wafeform from \n",
        "\n",
        "$t=6s$ to $t=8s$ \n",
        "\n",
        "is the first [ringback tone][4]\n",
        "\n",
        "So we chop our waveform again, to get just the segment with the DTMF data\n",
        "\n",
        "[4]: https://en.wikipedia.org/wiki/Ringing_tone"
      ]
    },
    {
      "metadata": {
        "id": "JNbhBLxa_3ro",
        "colab_type": "code",
        "colab": {
          "base_uri": "https://localhost:8080/",
          "height": 450
        },
        "outputId": "726e6540-7336-4c64-955a-4d29ee7dc9a3"
      },
      "cell_type": "code",
      "source": [
        "START = 1\n",
        "END = 3\n",
        "\n",
        "slice_wave(HARDCURRENCY_WAV,DTMF,START,END )\n",
        "plot_wave(DTMF,\"DTMF\")"
      ],
      "execution_count": 7,
      "outputs": [
        {
          "output_type": "stream",
          "text": [
            "/usr/local/lib/python3.6/dist-packages/ipykernel_launcher.py:8: DeprecationWarning: Numeric-style type codes are deprecated and will result in an error in the future.\n",
            "  \n",
            "/usr/local/lib/python3.6/dist-packages/ipykernel_launcher.py:8: DeprecationWarning: The binary mode of fromstring is deprecated, as it behaves surprisingly on unicode inputs. Use frombuffer instead\n",
            "  \n"
          ],
          "name": "stderr"
        },
        {
          "output_type": "display_data",
          "data": {
            "image/png": "[encoded data removed]",
            "text/plain": [
              "<matplotlib.figure.Figure at 0x7f0d8c409ef0>"
            ]
          },
          "metadata": {
            "tags": []
          }
        }
      ]
    },
    {
      "metadata": {
        "id": "7gjOeugZIyWN",
        "colab_type": "code",
        "colab": {}
      },
      "cell_type": "code",
      "source": [
        "class Goertzel:\n",
        "    '''A python implementation of the Goertzel algorithm to decode DTMF tones.'''\n",
        "\n",
        "    def __init__(self, samplerate):\n",
        "        self.samplerate = samplerate\n",
        "        self.goertzel_freq = [1209.0,1336.0,1477.0,1633.0,697.0,770.0,852.0,941.0]\n",
        "        self.s_prev = {}\n",
        "        self.s_prev2 = {}\n",
        "        self.totalpower = {}\n",
        "        self.N = {}\n",
        "        self.coeff = {}\n",
        "        \n",
        "        # create goertzel parameters for each frequency so that\n",
        "        # all the frequencies are analyzed in parallel\n",
        "        for k in self.goertzel_freq:\n",
        "            self.s_prev[k] = 0.0\n",
        "            self.s_prev2[k] = 0.0\n",
        "            self.totalpower[k] = 0.0\n",
        "            self.N[k] = 0.0\n",
        "            normalizedfreq = k / self.samplerate\n",
        "            self.coeff[k] = 2.0*math.cos(2.0 * math.pi * normalizedfreq)\n",
        "\n",
        "    def __get_number(self, freqs):\n",
        "        hi = [1209.0,1336.0,1477.0,1633.0]\n",
        "        lo = [697.0,770.0,852.0,941.0]\n",
        "        \n",
        "        # get hi freq\n",
        "        hifreq = 0.0\n",
        "        hifreq_v = 0.0\n",
        "        \n",
        "        for f in hi:\n",
        "            if freqs[f]>hifreq_v:\n",
        "                hifreq_v = freqs[f]\n",
        "                hifreq = f\n",
        "        \n",
        "        # get lo freq\n",
        "        lofreq = 0.0\n",
        "        lofreq_v = 0.0\n",
        "        \n",
        "        for f in lo:\n",
        "            if freqs[f]>lofreq_v:\n",
        "                lofreq_v = freqs[f]\n",
        "                lofreq = f\n",
        "        \n",
        "        if lofreq==697.0:\n",
        "            if hifreq==1209.0:\n",
        "                return \"1\"\n",
        "            elif hifreq==1336.0:\n",
        "                return \"2\"\n",
        "            elif hifreq==1477.0:\n",
        "                return \"3\"\n",
        "            elif hifreq==1633.0:\n",
        "                return \"A\"\n",
        "        \n",
        "        elif lofreq==770.0:\n",
        "            if hifreq==1209.0:\n",
        "                return \"4\"\n",
        "            elif hifreq==1336.0:\n",
        "                return \"5\"\n",
        "            elif hifreq==1477.0:\n",
        "                return \"6\"\n",
        "            elif hifreq==1633.0:\n",
        "                return \"B\"\n",
        "        \n",
        "        elif lofreq==852.0:\n",
        "            if hifreq==1209.0:\n",
        "                return \"7\"\n",
        "            elif hifreq==1336.0:\n",
        "                return \"8\"\n",
        "            elif hifreq==1477.0:\n",
        "                return \"9\"\n",
        "            elif hifreq==1633.0:\n",
        "                return \"C\"\n",
        "        \n",
        "        elif lofreq==941.0:\n",
        "            if hifreq==1209.0:\n",
        "                return \"*\"\n",
        "            elif hifreq==1336.0:\n",
        "                return \"0\"\n",
        "            elif hifreq==1477.0:\n",
        "                return \"#\"\n",
        "            elif hifreq==1633.0:\n",
        "                return \"D\"\n",
        "    \n",
        "    def run(self, sample):\n",
        "        freqs = {}\n",
        "    \n",
        "        for freq in self.goertzel_freq:\n",
        "            s = sample + (self.coeff[freq] * self.s_prev[freq]) - self.s_prev2[freq]\n",
        "            self.s_prev2[freq] = self.s_prev[freq]\n",
        "            self.s_prev[freq] = s\n",
        "            self.N[freq]+=1\n",
        "            power = (self.s_prev2[freq]*self.s_prev2[freq]) + (self.s_prev[freq]*self.s_prev[freq]) - (self.coeff[freq]*self.s_prev[freq]*self.s_prev2[freq])\n",
        "            self.totalpower[freq]+=sample*sample\n",
        "        \n",
        "            if (self.totalpower[freq] == 0):\n",
        "                self.totalpower[freq] = 1\n",
        "            \n",
        "            freqs[freq] = power / self.totalpower[freq] / self.N[freq]\n",
        "        \n",
        "        return self.__get_number(freqs)\n",
        "\n",
        "    \n",
        "def decode_dtmf(wavefile):\n",
        "    \n",
        "    with wave.open(wavefile, 'r') as wav:\n",
        "        (nchannels, sampwidth, framerate, nframes, comptype, compname) = wav.getparams()\n",
        "        frames = wav.readframes(nframes * nchannels)\n",
        "        \n",
        "        # convert wave file to array of integers\n",
        "        frames = struct.unpack_from(\"%dH\" % nframes * nchannels, frames)\n",
        "        \n",
        "        # if stereo get left/right\n",
        "        if nchannels == 2:\n",
        "            left = [frames[i] for i in range(0,len(frames),2)]\n",
        "            right = [frames[i] for i in range(1,len(frames),2)]\n",
        "        else:\n",
        "            left = frames\n",
        "            right = left\n",
        "        \n",
        "        binsize = 400\n",
        "        binsize_split = 4 # Split the bin in 4 to average out errors due to noise\n",
        "\n",
        "        prevvalue = \"\"\n",
        "        prevcounter = 0\n",
        "        dialed = ''\n",
        "                \n",
        "        for i in range(0,len(left)-binsize,binsize//binsize_split):\n",
        "            goertzel = Goertzel(framerate)\n",
        "            \n",
        "            for j in left[i:i+binsize]:\n",
        "                value = goertzel.run(j)\n",
        "            \n",
        "            if value==prevvalue:\n",
        "                prevcounter+=1\n",
        "                if prevcounter==10:\n",
        "                    dialed += value\n",
        "            else:\n",
        "                prevcounter=0\n",
        "                prevvalue=value\n",
        "                \n",
        "        print(dialed)"
      ],
      "execution_count": 0,
      "outputs": []
    },
    {
      "metadata": {
        "id": "c7bklyKSOqb6",
        "colab_type": "code",
        "colab": {
          "base_uri": "https://localhost:8080/",
          "height": 34
        },
        "outputId": "237fc0dd-91f4-4ed8-d529-7bf3a7ab21be"
      },
      "cell_type": "code",
      "source": [
        "decode_dtmf(DTMF)"
      ],
      "execution_count": 25,
      "outputs": [
        {
          "output_type": "stream",
          "text": [
            "705422365412258966653\n"
          ],
          "name": "stdout"
        }
      ]
    }
  ]
}