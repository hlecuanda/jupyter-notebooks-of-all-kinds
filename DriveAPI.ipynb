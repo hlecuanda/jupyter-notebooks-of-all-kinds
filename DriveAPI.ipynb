{
  "nbformat": 4,
  "nbformat_minor": 0,
  "metadata": {
    "colab": {
      "name": "DriveAPI.ipynb",
      "version": "0.3.2",
      "provenance": [],
      "private_outputs": true,
      "collapsed_sections": [],
      "toc_visible": true
    },
    "kernelspec": {
      "name": "python3",
      "display_name": "Python 3"
    }
  },
  "cells": [
    {
      "cell_type": "markdown",
      "metadata": {
        "id": "view-in-github",
        "colab_type": "text"
      },
      "source": [
        "[View in Colaboratory](https://colab.research.google.com/github/hlecuanda/jupyter-notebooks-of-all-kinds/blob/master/DriveAPI.ipynb)"
      ]
    },
    {
      "metadata": {
        "id": "80Y7sH0ve36e",
        "colab_type": "text"
      },
      "cell_type": "markdown",
      "source": [
        "# Data extraction from Chase Bank Statements in Google Drive"
      ]
    },
    {
      "metadata": {
        "id": "Bid7_rXNfVi3",
        "colab_type": "text"
      },
      "cell_type": "markdown",
      "source": [
        "## Import auxiliary Libraries and software dependencies "
      ]
    },
    {
      "metadata": {
        "id": "kxRlVGCDfqr6",
        "colab_type": "text"
      },
      "cell_type": "markdown",
      "source": [
        "This section checks whether the required libraries have been installed in the current notebook. If this raises an exception, (For example, if the libraries are notavailable), the exception block will install the libraries.\n",
        "\n",
        "The important auxiliary library is [gspread](http://gspread.readthedocs.io/en/latest/) plus the oauth2 client library and the GoogleAPI python client discovery based libraries.\n"
      ]
    },
    {
      "metadata": {
        "id": "HskUipPPIw_w",
        "colab_type": "code",
        "colab": {}
      },
      "cell_type": "code",
      "source": [
        "try:\n",
        "    from oauth2client.service_account import ServiceAccountCredentials\n",
        "    from google.oauth2 import service_account\n",
        "    import gspread\n",
        "except:\n",
        "    !pip install google-auth google-auth-httplib2 google-api-python-client gspread\n",
        "    from oauth2client.service_account import ServiceAccountCredentials\n",
        "    import gspread\n",
        "finally:\n",
        "    import re\n",
        "    import httplib2\n",
        "    from apiclient import discovery\n",
        "    from google.colab import files\n"
      ],
      "execution_count": 0,
      "outputs": []
    },
    {
      "metadata": {
        "id": "8r5jh9hvhs1S",
        "colab_type": "text"
      },
      "cell_type": "markdown",
      "source": [
        "## Authorization procedure"
      ]
    },
    {
      "metadata": {
        "id": "JWnBl-NMiIav",
        "colab_type": "text"
      },
      "cell_type": "markdown",
      "source": [
        "This is a modified Oauth2 procedure, used when [Domain Wide Delegation](https://developers.google.com/identity/protocols/OAuth2ServiceAccount?hl=en_US#delegatingauthority) has been applied. [The procedure has been taken from this StackOverflow](https://stackoverflow.com/questions/49374112/google-service-account-cant-impersonate-gsuite-user) reference. \n",
        "\n",
        "The authorization flow has been simplified using a service account instead of the usual auth flow. This requires:\n",
        "\n",
        "*   A service account from the project's [API console's Credentials Section](https://console.cloud.google.com/apis/credentials?project=mezaops&organizationId=1063501829322). This will furnish a key file that you need to upload on this notebook\n",
        "*   The client defined for the service account above, has to be authorized for the required scopes via the[ Domain's Admin Console](https://admin.google.com/lecuanda.com/AdminHome?chromeless=1#OGX:ManageOauthClients). \n",
        "\n",
        "\n",
        "The `try ... except` block will check whether the authorization file containing the encryption certificate has been loaded on the notebook. If it has not been loaded, it willopen a dialog for the user to upload the authorization file.\n",
        "\n",
        "If you don't have the authorization file, please request it from your domain Admin. \n",
        "\n",
        "Finallym the `credentials.create_delegated()` method from the oauth2 clent will allow you to impersonate the user that has been used as parameter to this method.\n",
        "\n",
        "\n"
      ]
    },
    {
      "metadata": {
        "id": "98OIZo3jdgiK",
        "colab_type": "code",
        "colab": {}
      },
      "cell_type": "code",
      "source": [
        "SERVICE_ACCOUNT_FILE = 'MezaOps-9483d786f5ef.json'\n",
        "\n",
        "SCOPES = ['https://www.googleapis.com/auth/drive',\n",
        "          'https://www.googleapis.com/auth/drive.file',\n",
        "          'https://www.googleapis.com/auth/drive.metadata.readonly']\n",
        "\n",
        "try:\n",
        "    with open(SERVICE_ACCOUNT_FILE, \"r\") as f:\n",
        "        print()\n",
        "except:\n",
        "    uploaded = files.upload()\n",
        "\n",
        "    for fn in uploaded.keys():\n",
        "        print('User uploaded file \"{name}\" with length {length} bytes'.format(\n",
        "                name=fn, length=len(uploaded[fn])))\n",
        "\n",
        "\n",
        "credentials = ServiceAccountCredentials.from_json_keyfile_name(\n",
        "        SERVICE_ACCOUNT_FILE, scopes=SCOPES)\n",
        "\n",
        "\n",
        "delegated_credentials = credentials.create_delegated('hector@lecuanda.com')  \n",
        "delegated_http = delegated_credentials.authorize(httplib2.Http())\n",
        "drive  = discovery.build('drive', 'v3', http=delegated_http)\n"
      ],
      "execution_count": 0,
      "outputs": []
    },
    {
      "metadata": {
        "id": "ImBYaEN-oxeV",
        "colab_type": "text"
      },
      "cell_type": "markdown",
      "source": [
        "## Report Parameters"
      ]
    },
    {
      "metadata": {
        "id": "En-cdx8SpYFW",
        "colab_type": "text"
      },
      "cell_type": "markdown",
      "source": [
        "Fill in this form with the Google drive URL Key of the file that contains the PDF statements to extract data from. It will update the `docs` variable to contain all documents to beprocessed"
      ]
    },
    {
      "metadata": {
        "id": "XEsPtBLykjqw",
        "colab_type": "code",
        "colab": {}
      },
      "cell_type": "code",
      "source": [
        "#@title Directory id { run: \"auto\", vertical-output: true, output-height: 100, form-width: \"50%\", display-mode: \"form\" }\n",
        "dir_id = \"1kghdjPxiHRvQY2sQa1koli2csSGqni8_\" #@param {type:\"string\"}\n",
        "drivequery=\"'{}' in parents and mimeType = \\\n",
        "'application/vnd.google-apps.document'\".format(dir_id)\n",
        "docs = drive.files().list(q=drivequery).execute()\n",
        "\n",
        "print(\"{} documents selected\".format(len(docs['files'])))\n"
      ],
      "execution_count": 0,
      "outputs": []
    },
    {
      "metadata": {
        "id": "b5L5WANkqkCK",
        "colab_type": "text"
      },
      "cell_type": "markdown",
      "source": [
        "## Aux Routines"
      ]
    },
    {
      "metadata": {
        "id": "ynV05HS_q1Mt",
        "colab_type": "text"
      },
      "cell_type": "markdown",
      "source": [
        "Here, we define two routines that do the actual data extraction using the drive API"
      ]
    },
    {
      "metadata": {
        "id": "fvOfgCW10eDL",
        "colab_type": "code",
        "colab": {}
      },
      "cell_type": "code",
      "source": [
        "\n",
        "def get_yymm(instring):\n",
        "    ''' Gets the year and month for the statement being processed from the\n",
        "        file name. We need this because the Chase Statements format omit \n",
        "        the year on the transaction detials'''\n",
        "    yy=instring[0:4]\n",
        "    mm=instring[4:6]\n",
        "    return \"{}-{}\".format(yy,mm)\n",
        "\n",
        "def get_text_from_statements(doclist):\n",
        "    ''' Iterates through the drive files, exportsthe text, and filters it \n",
        "        through a compiled regular expresion, appending all data items to\n",
        "        a list that will get returned. Also, correctthe date on each item by\n",
        "        adding the year extracted fromthe filename'''\n",
        "    deposits=[]\n",
        "    regex=re.compile('^\\S{5}\\sDeposit\\s\\S+$')\n",
        "    \n",
        "    for doc in doclist:\n",
        "        yymm=get_yymm(doc['name'])\n",
        "        curr_statement=drive.files().export(fileId=doc['id'],mimeType='text/plain').execute()\n",
        "        for line in curr_statement.decode().split('\\r\\n'):\n",
        "            if regex.match(line):\n",
        "                mo=line[0:2]\n",
        "                dy=line[3:5]\n",
        "                rest=line.split(' ')[2]\n",
        "                deposits.append(\"{}-{},{}\".format(yymm,dy,rest))\n",
        "                        \n",
        "    return deposits"
      ],
      "execution_count": 0,
      "outputs": []
    },
    {
      "metadata": {
        "id": "fT36skDjsEkf",
        "colab_type": "text"
      },
      "cell_type": "markdown",
      "source": [
        "This call extracts the selected data, dumping it to the `data`  global var"
      ]
    },
    {
      "metadata": {
        "id": "xwrQ0uszqbk8",
        "colab_type": "code",
        "colab": {}
      },
      "cell_type": "code",
      "source": [
        "data=get_text_from_statements(docs['files'])    "
      ],
      "execution_count": 0,
      "outputs": []
    },
    {
      "metadata": {
        "id": "0L_aKIw9shT5",
        "colab_type": "text"
      },
      "cell_type": "markdown",
      "source": [
        "## Dump data on a spreadhseet"
      ]
    },
    {
      "metadata": {
        "id": "GAD-_TNlsr7D",
        "colab_type": "text"
      },
      "cell_type": "markdown",
      "source": [
        "This code block creates a Google Spreadsheet, selects a range and then dumps each value from the `data` variable into the newly created spreadsheet\n",
        "\n",
        "### Todo:\n",
        "\n",
        "\n",
        "1.   Verify if a spreadsheet already exists\n",
        "2.   Report formatting and formula addition\n",
        "\n"
      ]
    },
    {
      "metadata": {
        "id": "GmwiTiqRO_Ka",
        "colab_type": "code",
        "colab": {}
      },
      "cell_type": "code",
      "source": [
        "gc = gspread.authorize(credentials.get_application_default())\n",
        "\n",
        "sh = gc.create('Deposits')\n",
        "#shid = gc\n",
        "\n",
        "# Open our new sheet and add some data.\n",
        "worksheet = gc.open('Deposits').sheet1\n",
        "\n",
        "if worksheet.row_count < len(data):\n",
        "    extra_rows=len(data)-worksheet.row_count\n",
        "    worksheet.add_rows(extra_rows+20)\n",
        "\n",
        "cell_list = worksheet.range(\"A1:A{}\".format(len(data)))\n",
        "\n",
        "for cell in cell_list:\n",
        "  cell.value = data[cell.row]\n",
        "\n",
        "worksheet.update_cells(cell_list)\n",
        "# Go to https://sheets.google.com to see your new spreadsheet."
      ],
      "execution_count": 0,
      "outputs": []
    }
  ]
}