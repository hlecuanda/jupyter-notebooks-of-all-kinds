{
  "nbformat": 4,
  "nbformat_minor": 0,
  "metadata": {
    "colab": {
      "name": "DriveAPI.ipynb",
      "version": "0.3.2",
      "provenance": []
    },
    "kernelspec": {
      "name": "python3",
      "display_name": "Python 3"
    }
  },
  "cells": [
    {
      "cell_type": "markdown",
      "metadata": {
        "id": "view-in-github",
        "colab_type": "text"
      },
      "source": [
        "[View in Colaboratory](https://colab.research.google.com/github/hlecuanda/jupyter-notebooks-of-all-kinds/blob/master/DriveAPI.ipynb)"
      ]
    },
    {
      "metadata": {
        "id": "wkXUbeijjcpv",
        "colab_type": "code",
        "colab": {}
      },
      "cell_type": "code",
      "source": [
        ""
      ],
      "execution_count": 0,
      "outputs": []
    },
    {
      "metadata": {
        "id": "xRhAKhLTkgab",
        "colab_type": "code",
        "colab": {}
      },
      "cell_type": "code",
      "source": [
        "\n",
        "from google.colab import auth\n",
        "from oauth2client.client import GoogleCredentials\n",
        "\n",
        "# Authenticate and create the PyDrive client.\n",
        "# This only needs to be done once per notebook.\n",
        "auth.authenticate_user()\n",
        "gauth = GoogleAuth()\n",
        "gauth.credentials = GoogleCredentials.get_application_default()\n",
        "drive = GoogleDrive(gauth)\n",
        "\n"
      ],
      "execution_count": 0,
      "outputs": []
    },
    {
      "metadata": {
        "id": "XEsPtBLykjqw",
        "colab_type": "code",
        "colab": {}
      },
      "cell_type": "code",
      "source": [
        "#@title Directory id { run: \"auto\", vertical-output: true, output-height: 100, form-width: \"50%\", display-mode: \"form\" }\n",
        "dir_id = \"1kghdjPxiHRvQY2sQa1koli2csSGqni8_\" #@param {type:\"string\"}\n",
        "windows_fmt = False #@param {type:\"boolean\"}\n",
        "# List .txt files in the root.\n",
        "#"
      ],
      "execution_count": 0,
      "outputs": []
    },
    {
      "metadata": {
        "id": "pcBZpUcRj-ij",
        "colab_type": "code",
        "colab": {}
      },
      "cell_type": "code",
      "source": [
        "\n",
        "# Search query reference:\n",
        "# https://developers.google.com/drive/v2/web/search-parameters\n",
        "listed = drive.ListFile({'q': \"'%s' in parents and mimeType = 'application/pdf'\" % dir_id }).GetList()\n",
        "doc_files = drive.ListFile({'q': \"'%s' in parents and mimeType = 'application/vnd.google-apps.document'\" % dir_id }).GetList()\n",
        "\n",
        "debug = False\n",
        "files=[]\n",
        "row=\"{},{}.{}\"\n",
        "if windows_fmt:\n",
        "  row+='\\n'\n",
        "for file in doc_files:\n",
        "  files.append(file['id'])\n",
        "  if debug:\n",
        "    print(row.format(file['title'], file['id'], file['mimeType']))\n",
        "\n",
        "print(\"Total Docs: {}\".format(len(doc_files)))\n",
        "doc_files[0:3]\n",
        "doc_files[len(doc_files)-3:len(doc_files)]"
      ],
      "execution_count": 0,
      "outputs": []
    }
  ]
}