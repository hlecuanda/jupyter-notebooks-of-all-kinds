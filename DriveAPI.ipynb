{
 "cells": [
  {
   "cell_type": "markdown",
   "metadata": {
    "colab_type": "text",
    "id": "view-in-github"
   },
   "source": [
    "[View in Colaboratory](https://colab.research.google.com/github/hlecuanda/jupyter-notebooks-of-all-kinds/blob/master/DriveAPI.ipynb)"
   ]
  },
  {
   "cell_type": "code",
   "execution_count": null,
   "metadata": {
    "colab": {},
    "colab_type": "code",
    "id": "XEsPtBLykjqw"
   },
   "outputs": [],
   "source": [
    "try:\n",
    "    from oauth2client.service_account import ServiceAccountCredentials\n",
    "    from google.oauth2 import service_account\n",
    "except ModuleNotFoundError:\n",
    "    !pip -q install google-auth google-auth-httplib2 google-api-python-client \n",
    "else:\n",
    "    from google.oauth2 import service_account\n",
    "    from oauth2client.service_account import ServiceAccountCredentials\n",
    "finally:\n",
    "    import re\n",
    "    import sys\n",
    "    import httplib2\n",
    "    from apiclient import discovery\n",
    "\n",
    "SERVICE_ACCOUNT_FILE = './MezaOps-9483d786f5ef.json'\n",
    "DEVEL=True\n",
    "SCOPES = ['https://www.googleapis.com/auth/drive',\n",
    "          'https://www.googleapis.com/auth/drive.file',\n",
    "          'https://www.googleapis.com/auth/drive.metadata.readonly',\n",
    "          'https://www.googleapis.com/auth/spreadsheets']\n",
    "\n",
    "with open(SERVICE_ACCOUNT_FILE, \"r\") as f:\n",
    "    print('loaded credentials from {}'.format(f.name))\n",
    "credentials = ServiceAccountCredentials.from_json_keyfile_name(\n",
    "        SERVICE_ACCOUNT_FILE, scopes=SCOPES)\n",
    "\n",
    "delegated_credentials = credentials.create_delegated('hector@lecuanda.com')  \n",
    "delegated_http = delegated_credentials.authorize(httplib2.Http())\n",
    "drive  = discovery.build('drive', 'v3', http=delegated_http)\n",
    "\n",
    "if DEVEL:\n",
    "    dir_id = \"1G6ugwhummqXDYcDVysgw_gSUdcejO4gj\" # while testing\n",
    "    print('Developer Test dir on gdrive')\n",
    "else:\n",
    "    dir_id = \"104tvKpVICsqcdZ5vEM9Ioc-Bi0U8XNPj\" # Live\n",
    "    print('live dir ong Gdrive')"
   ]
  },
  {
   "cell_type": "code",
   "execution_count": 13,
   "metadata": {
    "colab": {},
    "colab_type": "code",
    "id": "XEsPtBLykjqw"
   },
   "outputs": [
    {
     "name": "stdout",
     "output_type": "stream",
     "text": [
      "Developer Test dir on gdrive\n"
     ]
    }
   ],
   "source": [
    "def upload_to_dir(src,dest_dir='root'):\n",
    "    drive."
   ]
  }
 ],
 "metadata": {
  "colab": {
   "collapsed_sections": [
    "n43hMEjLjoU7"
   ],
   "name": "DriveAPI.ipynb",
   "private_outputs": true,
   "provenance": [],
   "toc_visible": true,
   "version": "0.3.2"
  },
  "kernelspec": {
   "display_name": "Python 3",
   "language": "python",
   "name": "python3"
  },
  "language_info": {
   "codemirror_mode": {
    "name": "ipython",
    "version": 3
   },
   "file_extension": ".py",
   "mimetype": "text/x-python",
   "name": "python",
   "nbconvert_exporter": "python",
   "pygments_lexer": "ipython3",
   "version": "3.6.4"
  }
 },
 "nbformat": 4,
 "nbformat_minor": 1
}
