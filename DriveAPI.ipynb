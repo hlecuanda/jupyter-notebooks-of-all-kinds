{
  "nbformat": 4,
  "nbformat_minor": 0,
  "metadata": {
    "colab": {
      "name": "DriveAPI.ipynb",
      "version": "0.3.2",
      "provenance": [],
      "toc_visible": true
    },
    "kernelspec": {
      "name": "python3",
      "display_name": "Python 3"
    }
  },
  "cells": [
    {
      "cell_type": "markdown",
      "metadata": {
        "id": "view-in-github",
        "colab_type": "text"
      },
      "source": [
        "[View in Colaboratory](https://colab.research.google.com/github/hlecuanda/jupyter-notebooks-of-all-kinds/blob/master/DriveAPI.ipynb)"
      ]
    },
    {
      "metadata": {
        "id": "HskUipPPIw_w",
        "colab_type": "code",
        "colab": {
          "resources": {
            "http://localhost:8080/nbextensions/google.colab/files.js": {
              "data": "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",
              "ok": true,
              "headers": [
                [
                  "content-type",
                  "application/javascript"
                ]
              ],
              "status": 200,
              "status_text": "OK"
            }
          },
          "base_uri": "https://localhost:8080/",
          "height": 46
        },
        "outputId": "bdaa14fa-7c99-4343-8fd2-f795b4dafe40"
      },
      "cell_type": "code",
      "source": [
        "try:\n",
        "    from oauth2client.service_account import ServiceAccountCredentials\n",
        "    from google.oauth2 import service_account\n",
        "except:\n",
        "    !pip install google-auth google-auth-httplib2 google-api-python-client\n",
        "    from oauth2client.service_account import ServiceAccountCredentials\n",
        "finally:\n",
        "    from apiclient import discovery\n",
        "    import httplib2\n",
        "    from google.colab import files\n",
        "from google.colab import files\n",
        "\n",
        "uploaded = files.upload()\n",
        "\n",
        "for fn in uploaded.keys():\n",
        "  print('User uploaded file \"{name}\" with length {length} bytes'.format(\n",
        "      name=fn, length=len(uploaded[fn])))\n",
        "\n",
        "\n",
        "SCOPES = ['https://www.googleapis.com/auth/drive',\n",
        "          'https://www.googleapis.com/auth/drive.file',\n",
        "          'https://www.googleapis.com/auth/drive.metadata.readonly']\n",
        "SERVICE_ACCOUNT_FILE = 'MezaOps-9483d786f5ef.json'\n",
        "\n",
        "credentials = ServiceAccountCredentials.from_json_keyfile_name(\n",
        "        SERVICE_ACCOUNT_FILE, scopes=SCOPES)\n",
        "\n",
        "\n",
        "delegated_credentials = credentials.create_delegated('hector@lecuanda.com')  \n",
        "delegated_http = delegated_credentials.authorize(httplib2.Http())\n",
        "drive  = discovery.build('drive', 'v3', http=delegated_http)\n"
      ],
      "execution_count": 6,
      "outputs": [
        {
          "output_type": "display_data",
          "data": {
            "text/html": [
              "\n",
              "     <input type=\"file\" id=\"files-eab0bef9-944c-42bf-b372-90d834eacbb3\" name=\"files[]\" multiple disabled />\n",
              "     <output id=\"result-eab0bef9-944c-42bf-b372-90d834eacbb3\">\n",
              "      Upload widget is only available when the cell has been executed in the\n",
              "      current browser session. Please rerun this cell to enable.\n",
              "      </output>\n",
              "      <script src=\"/nbextensions/google.colab/files.js\"></script> "
            ],
            "text/plain": [
              "<IPython.core.display.HTML object>"
            ]
          },
          "metadata": {
            "tags": []
          }
        }
      ]
    },
    {
      "metadata": {
        "id": "95f8IbnLtaQs",
        "colab_type": "code",
        "colab": {
          "base_uri": "https://localhost:8080/",
          "height": 34
        },
        "outputId": "6bab3240-763d-4211-b778-c07231203eb8"
      },
      "cell_type": "code",
      "source": [
        "import IPython\n",
        "js_code = '''\n",
        "document.querySelector(\"#output-area\").appendChild(document.createTextNode(\"hello world!\"));\n",
        "'''\n",
        "display(IPython.display.Javascript(js_code))"
      ],
      "execution_count": 21,
      "outputs": [
        {
          "output_type": "display_data",
          "data": {
            "application/javascript": [
              "\n",
              "document.querySelector(\"#output-area\").appendChild(document.createTextNode(\"hello world!\"));\n"
            ],
            "text/plain": [
              "<IPython.core.display.Javascript object>"
            ]
          },
          "metadata": {
            "tags": []
          }
        }
      ]
    },
    {
      "metadata": {
        "id": "XEsPtBLykjqw",
        "colab_type": "code",
        "colab": {
          "base_uri": "https://localhost:8080/",
          "height": 35
        },
        "outputId": "b2f78919-46c1-40d0-880c-f0df1cccb357"
      },
      "cell_type": "code",
      "source": [
        "#@title Directory id { run: \"auto\", vertical-output: true, output-height: 100, form-width: \"50%\", display-mode: \"form\" }\n",
        "dir_id = \"1kghdjPxiHRvQY2sQa1koli2csSGqni8_\" #@param {type:\"string\"}\n",
        "drivequery=\"'{}' in parents and mimeType = \\\n",
        "'application/vnd.google-apps.document'\".format(dir_id)\n",
        "docs = drive.files().list(q=drivequery).execute()\n",
        "\n",
        "print(\"{} documents selected\".format(len(docs['files'])))\n"
      ],
      "execution_count": 20,
      "outputs": [
        {
          "output_type": "stream",
          "text": [
            "55 documents selected\n"
          ],
          "name": "stdout"
        }
      ]
    },
    {
      "metadata": {
        "id": "WLbbfwk5mslW",
        "colab_type": "code",
        "colab": {
          "base_uri": "https://localhost:8080/",
          "height": 3948
        },
        "outputId": "cb53762c-7d1f-4845-a669-19412da4c835"
      },
      "cell_type": "code",
      "source": [
        "import pprint\n",
        "pprint.pprint(docs['files'])"
      ],
      "execution_count": 11,
      "outputs": [
        {
          "output_type": "stream",
          "text": [
            "[{'id': '1ydYeSy9A5W6NzEM-w0AjuDyHo6ZaZsNPGfzzmU9cVDo',\n",
            "  'kind': 'drive#file',\n",
            "  'mimeType': 'application/vnd.google-apps.document',\n",
            "  'name': '20141231-statements-x7399-.pdf'},\n",
            " {'id': '1l99Dvfyzx0UXbH-Cx_kINhhos6fRdaTtw3XMK0dH1DI',\n",
            "  'kind': 'drive#file',\n",
            "  'mimeType': 'application/vnd.google-apps.document',\n",
            "  'name': 'Untitled document'},\n",
            " {'id': '1J2nq5ootxcaz5zlV80K_d8HRsvvz6zLg6z-cbOHt8aU',\n",
            "  'kind': 'drive#file',\n",
            "  'mimeType': 'application/vnd.google-apps.document',\n",
            "  'name': '20161230-statements-x7399-.pdf'},\n",
            " {'id': '1dGmSJQYFekek0JUvMFhbv-r43pHdFEK4T2JfW_e3Ngg',\n",
            "  'kind': 'drive#file',\n",
            "  'mimeType': 'application/vnd.google-apps.document',\n",
            "  'name': '20161130-statements-x7399-.pdf'},\n",
            " {'id': '1junwqRRBJWIsTlTYTQFTR5bU7BXpUYgebEpJykFp59E',\n",
            "  'kind': 'drive#file',\n",
            "  'mimeType': 'application/vnd.google-apps.document',\n",
            "  'name': '20161031-statements-x7399-.pdf'},\n",
            " {'id': '1dKR4R5Rc775Js5MJP8VQhWg5zLXFnPNFAfSXY1jZSlM',\n",
            "  'kind': 'drive#file',\n",
            "  'mimeType': 'application/vnd.google-apps.document',\n",
            "  'name': '20160930-statements-x7399-.pdf'},\n",
            " {'id': '10klrofwpT8e8Ytj90M7DX6nezeK9VepzDcgCsf6yu7M',\n",
            "  'kind': 'drive#file',\n",
            "  'mimeType': 'application/vnd.google-apps.document',\n",
            "  'name': '20160831-statements-x7399-.pdf'},\n",
            " {'id': '1VMQy71O7U_1jbgn66A-rqUevLGvHOxefk5T2uqhLEvA',\n",
            "  'kind': 'drive#file',\n",
            "  'mimeType': 'application/vnd.google-apps.document',\n",
            "  'name': '20160729-statements-x7399-.pdf'},\n",
            " {'id': '1Wwk_KFwzII5dFduSb2EVJMsGxjw0C6PRhia6YlBLalg',\n",
            "  'kind': 'drive#file',\n",
            "  'mimeType': 'application/vnd.google-apps.document',\n",
            "  'name': '20160630-statements-x7399-.pdf'},\n",
            " {'id': '1CRlX7KcgKjQMRxERROvH0gY6O1LOF4vQpkZBo1F7oiU',\n",
            "  'kind': 'drive#file',\n",
            "  'mimeType': 'application/vnd.google-apps.document',\n",
            "  'name': '20160531-statements-x7399-.pdf'},\n",
            " {'id': '1vYA6jM10LzP5Lem3ff1CcDxi9nCskjpYjzxhC-WiBSw',\n",
            "  'kind': 'drive#file',\n",
            "  'mimeType': 'application/vnd.google-apps.document',\n",
            "  'name': '20160429-statements-x7399-.pdf'},\n",
            " {'id': '1cJEXgu1Rgd3fSOCrOOTKyZ21KmpE_VjYYdQ_yyy7TGI',\n",
            "  'kind': 'drive#file',\n",
            "  'mimeType': 'application/vnd.google-apps.document',\n",
            "  'name': '20160331-statements-x7399-.pdf'},\n",
            " {'id': '1LzEx1kX_5MN-CBXSJ1U5rrfu4Q8rZmS-vZeotwdd6WY',\n",
            "  'kind': 'drive#file',\n",
            "  'mimeType': 'application/vnd.google-apps.document',\n",
            "  'name': '20160229-statements-x7399-.pdf'},\n",
            " {'id': '1mru9Mg0bQq_ENNVSkCNZrc68UKzcxoqC8QXkqtmBRTc',\n",
            "  'kind': 'drive#file',\n",
            "  'mimeType': 'application/vnd.google-apps.document',\n",
            "  'name': '20160129-statements-x7399-.pdf'},\n",
            " {'id': '1kdalZ_G9wpvJ0TPp4_8GgWmRRR05D_-vnk1uIsR-c28',\n",
            "  'kind': 'drive#file',\n",
            "  'mimeType': 'application/vnd.google-apps.document',\n",
            "  'name': '20151231-statements-x7399-.pdf'},\n",
            " {'id': '16Fp1YbPeliv2I5n4idz0xzLIzGd0mWx8zIIrS0orQi0',\n",
            "  'kind': 'drive#file',\n",
            "  'mimeType': 'application/vnd.google-apps.document',\n",
            "  'name': '20151130-statements-x7399-.pdf'},\n",
            " {'id': '1IGedYd0v-sCzWRTjMd4hfj0LQBBXjwBuLlZv9f_UIas',\n",
            "  'kind': 'drive#file',\n",
            "  'mimeType': 'application/vnd.google-apps.document',\n",
            "  'name': '20151030-statements-x7399-.pdf'},\n",
            " {'id': '1vVGDUTayFduS3VnNhZSuDMtMwRrE3mc9dQD2KVq9Ih8',\n",
            "  'kind': 'drive#file',\n",
            "  'mimeType': 'application/vnd.google-apps.document',\n",
            "  'name': '20150831-statements-x7399-.pdf'},\n",
            " {'id': '1tR70NIGlQ6KgC0Nkfx85v3_XRQXByxb_P5fb9_Pplxo',\n",
            "  'kind': 'drive#file',\n",
            "  'mimeType': 'application/vnd.google-apps.document',\n",
            "  'name': '20150731-statements-x7399-.pdf'},\n",
            " {'id': '1iUWPE9v51KfHY-0iaPmXHVh-O-6fPxJ6LY5j6GcjZl4',\n",
            "  'kind': 'drive#file',\n",
            "  'mimeType': 'application/vnd.google-apps.document',\n",
            "  'name': '20150529-statements-x7399-.pdf'},\n",
            " {'id': '190eVbDVDKetkD-X13XKuZD6FBuE-A-OisM9q-n_Ze4k',\n",
            "  'kind': 'drive#file',\n",
            "  'mimeType': 'application/vnd.google-apps.document',\n",
            "  'name': '20150430-statements-x7399-.pdf'},\n",
            " {'id': '15oBlUO5K14nCCQcQHecyX4f94HITpHMw9HGhPvWRkto',\n",
            "  'kind': 'drive#file',\n",
            "  'mimeType': 'application/vnd.google-apps.document',\n",
            "  'name': '20150227-statements-x7399-.pdf'},\n",
            " {'id': '11uNJAJX3VVSnGEAN3b76hGebUoQmAkbbnnoUhBNhcCM',\n",
            "  'kind': 'drive#file',\n",
            "  'mimeType': 'application/vnd.google-apps.document',\n",
            "  'name': '20150130-statements-x7399-.pdf'},\n",
            " {'id': '11KjnG68evzvPkk2Tss6Q3b_OAjTPmjvigfU-6d4dB3Q',\n",
            "  'kind': 'drive#file',\n",
            "  'mimeType': 'application/vnd.google-apps.document',\n",
            "  'name': '20141128-statements-x7399-.pdf'},\n",
            " {'id': '18nXm9v2X0jTir-LThpsKHBEQ1OHbDi2gND5yb3VRwqc',\n",
            "  'kind': 'drive#file',\n",
            "  'mimeType': 'application/vnd.google-apps.document',\n",
            "  'name': '20141031-statements-x7399-.pdf'},\n",
            " {'id': '1Pd7q4qcIcIhT_dhMyb2gtdcp0JItdSr6V-AE33VQzMY',\n",
            "  'kind': 'drive#file',\n",
            "  'mimeType': 'application/vnd.google-apps.document',\n",
            "  'name': '20140930-statements-x7399-.pdf'},\n",
            " {'id': '1UlZ1U12p6L28OolRN_YX78zvSW35LtaKh_PN_lCqeqY',\n",
            "  'kind': 'drive#file',\n",
            "  'mimeType': 'application/vnd.google-apps.document',\n",
            "  'name': '20140829-statements-x7399-.pdf'},\n",
            " {'id': '12RiqUWbCYajW0ozayHuJudvTEoqFKaF4mcL1JF9yVTU',\n",
            "  'kind': 'drive#file',\n",
            "  'mimeType': 'application/vnd.google-apps.document',\n",
            "  'name': '20140731-statements-x7399-.pdf'},\n",
            " {'id': '1JKvkH95tVi0DbRo2oVE_qBLokYvKtS1S4y0Z7ib2yl0',\n",
            "  'kind': 'drive#file',\n",
            "  'mimeType': 'application/vnd.google-apps.document',\n",
            "  'name': '20140630-statements-x7399-.pdf'},\n",
            " {'id': '1V-H9j9l3rQQO1oFZ4WJIaYXld9Iugi0NxM8820EDYNY',\n",
            "  'kind': 'drive#file',\n",
            "  'mimeType': 'application/vnd.google-apps.document',\n",
            "  'name': '20140530-statements-x7399-.pdf'},\n",
            " {'id': '1ZhUyEDl25ubPsiOd-bydh401b1POPd1vTprt0ERHdDM',\n",
            "  'kind': 'drive#file',\n",
            "  'mimeType': 'application/vnd.google-apps.document',\n",
            "  'name': '20140430-statements-x7399-.pdf'},\n",
            " {'id': '1KaRq3-BTYpE586-aAeXnD8Sz4eWbvh_eTfs3nEbT-MQ',\n",
            "  'kind': 'drive#file',\n",
            "  'mimeType': 'application/vnd.google-apps.document',\n",
            "  'name': '20140131-statements-x7399-.pdf'},\n",
            " {'id': '1SDn7ddC9S05Htm8H_wYGD9ILMlEZg8pi_BigszQyZ5s',\n",
            "  'kind': 'drive#file',\n",
            "  'mimeType': 'application/vnd.google-apps.document',\n",
            "  'name': '20131129-statements-x7399-.pdf'},\n",
            " {'id': '1NBQ7KAdAndMIxhWLXk9KhDlPJS1bzZUyQ5mvKZwSxEs',\n",
            "  'kind': 'drive#file',\n",
            "  'mimeType': 'application/vnd.google-apps.document',\n",
            "  'name': '20131031-statements-x7399-.pdf'},\n",
            " {'id': '1zreRVRNkASODzu53oYR5Gnd8j2ApLmB21fDzHfHtbEg',\n",
            "  'kind': 'drive#file',\n",
            "  'mimeType': 'application/vnd.google-apps.document',\n",
            "  'name': '20130930-statements-x7399-.pdf'},\n",
            " {'id': '1YnV5Ds4s8zCqfV57ok0n7mSu0suFF7jgQQsXtaXdmco',\n",
            "  'kind': 'drive#file',\n",
            "  'mimeType': 'application/vnd.google-apps.document',\n",
            "  'name': '20130830-statements-x7399-.pdf'},\n",
            " {'id': '1-Rv6udM0tG9vxhE-pTbsDqQcOC15j_OpqceeZpQBEdE',\n",
            "  'kind': 'drive#file',\n",
            "  'mimeType': 'application/vnd.google-apps.document',\n",
            "  'name': '20130731-statements-x7399-.pdf'},\n",
            " {'id': '1wMpyss42AxepzLjvOfHgVJp_mSfsFGsuKertyr5UFJE',\n",
            "  'kind': 'drive#file',\n",
            "  'mimeType': 'application/vnd.google-apps.document',\n",
            "  'name': '20130628-statements-x7399-.pdf'},\n",
            " {'id': '1nVHttXQvQ3MJpr_pkyXeZ5dWvuYyztXGQkWyX6La_XI',\n",
            "  'kind': 'drive#file',\n",
            "  'mimeType': 'application/vnd.google-apps.document',\n",
            "  'name': '20130430-statements-x7399-.pdf'},\n",
            " {'id': '1VVJWt4MawAZWk2d2pBr0eimqGQoi3N9TsnOSaefyUnc',\n",
            "  'kind': 'drive#file',\n",
            "  'mimeType': 'application/vnd.google-apps.document',\n",
            "  'name': '20130131-statements-x7399-.pdf'},\n",
            " {'id': '1VJOgxnGbrWZBUyTX0G5U3upeSckDeqY341Th3wc0R1k',\n",
            "  'kind': 'drive#file',\n",
            "  'mimeType': 'application/vnd.google-apps.document',\n",
            "  'name': '20121231-statements-x7399-.pdf'},\n",
            " {'id': '1qn2pIKCxYOWW4D92TvoaZYsKJVfv0dpll85HQn4a_vA',\n",
            "  'kind': 'drive#file',\n",
            "  'mimeType': 'application/vnd.google-apps.document',\n",
            "  'name': '20121031-statements-x7399-.pdf'},\n",
            " {'id': '1PpJ4s6AgmMzlHE84QPf1QQTIhg1vhkgesaS_Sl-r63w',\n",
            "  'kind': 'drive#file',\n",
            "  'mimeType': 'application/vnd.google-apps.document',\n",
            "  'name': '20120928-statements-x7399-.pdf'},\n",
            " {'id': '1EtTYWOAXO6PNSO8u49bCjcepM-TrKBl7HXtKliHKZI0',\n",
            "  'kind': 'drive#file',\n",
            "  'mimeType': 'application/vnd.google-apps.document',\n",
            "  'name': '20120731-statements-x7399-.pdf'},\n",
            " {'id': '1YATiPPTTUCJNH-a277y1kTsrHST8uX9iJ6Nw9LNXewY',\n",
            "  'kind': 'drive#file',\n",
            "  'mimeType': 'application/vnd.google-apps.document',\n",
            "  'name': '20120629-statements-x7399-.pdf'},\n",
            " {'id': '1E7AtmQq23YXbUMdBM06P2ACuN1OTsbIgBbBsDLXt2RQ',\n",
            "  'kind': 'drive#file',\n",
            "  'mimeType': 'application/vnd.google-apps.document',\n",
            "  'name': '20120531-statements-x7399-.pdf'},\n",
            " {'id': '1K7JlqMESjixlP3DYt4pw0TzANUkO49wfFIzHYhBgN5Y',\n",
            "  'kind': 'drive#file',\n",
            "  'mimeType': 'application/vnd.google-apps.document',\n",
            "  'name': '20170131-statements-x7399-.pdf'},\n",
            " {'id': '1hfojL_nBVY6T--BGlrk1at_KkHgGDrp2yq7zkGRNXFI',\n",
            "  'kind': 'drive#file',\n",
            "  'mimeType': 'application/vnd.google-apps.document',\n",
            "  'name': '20170428-statements-x7399-.pdf'},\n",
            " {'id': '17DpntDgq9cLJnYjgC3iQ4VdVK9m5XiGfVcHyiMW8XAs',\n",
            "  'kind': 'drive#file',\n",
            "  'mimeType': 'application/vnd.google-apps.document',\n",
            "  'name': '20170531-statements-x7399-.pdf'},\n",
            " {'id': '1UiPUySu83XTgRyh8JZ28dKP1xYl0gKJQ_aVZrq5PbGY',\n",
            "  'kind': 'drive#file',\n",
            "  'mimeType': 'application/vnd.google-apps.document',\n",
            "  'name': '20170630-statements-x7399-.pdf'},\n",
            " {'id': '1Sv6UTy4D2ZHlJ0MWudsn9AoPon9UXmHj-dHIT-gtTaM',\n",
            "  'kind': 'drive#file',\n",
            "  'mimeType': 'application/vnd.google-apps.document',\n",
            "  'name': '20170731-statements-x7399-.pdf'},\n",
            " {'id': '1vV5dFTX56ORiQe_ZYcaEJQlB2NJsFBwgeM9nSgcqa58',\n",
            "  'kind': 'drive#file',\n",
            "  'mimeType': 'application/vnd.google-apps.document',\n",
            "  'name': '20170831-statements-x7399-.pdf'},\n",
            " {'id': '16Y7LTXKQWZMLtzaYBN_x8eu45omgrVuGuESWq8JljM8',\n",
            "  'kind': 'drive#file',\n",
            "  'mimeType': 'application/vnd.google-apps.document',\n",
            "  'name': '20170929-statements-x7399-.pdf'},\n",
            " {'id': '1fEYBYF_S-Q4k9ROnadZm8T43agOe7LwIfoqWNO2Eees',\n",
            "  'kind': 'drive#file',\n",
            "  'mimeType': 'application/vnd.google-apps.document',\n",
            "  'name': '20171130-statements-x7399-.pdf'},\n",
            " {'id': '1dHv7XcCP3nsvuo3NjuFl_FCJ7qaXje4TOjBSi-NgK1c',\n",
            "  'kind': 'drive#file',\n",
            "  'mimeType': 'application/vnd.google-apps.document',\n",
            "  'name': '20171229-statements-x7399-.pdf'}]\n"
          ],
          "name": "stdout"
        }
      ]
    },
    {
      "metadata": {
        "id": "pcBZpUcRj-ij",
        "colab_type": "code",
        "colab": {
          "base_uri": "https://localhost:8080/",
          "height": 263
        },
        "outputId": "3ab44c5a-e0a6-4242-8e25-ff05c45e5a81"
      },
      "cell_type": "code",
      "source": [
        "# Search query reference:\n",
        "# https://developers.google.com/drive/v2/web/search-parameters\n",
        "listed = drive.ListFile({'q': \"'%s' in parents and mimeType = 'application/pdf'\" % dir_id }).GetList()\n",
        "doc_files = drive.ListFile({'q': \"'%s' in parents and mimeType = 'application/vnd.google-apps.document'\" % dir_id }).GetList()\n",
        "\n",
        "debug = False\n",
        "files=[]\n",
        "row=\"{},{}.{}\"\n",
        "if windows_fmt:\n",
        "  row+='\\n'\n",
        "for file in doc_files:\n",
        "  files.append(file['id'])\n",
        "  if debug:\n",
        "    print(row.format(file['title'], file['id'], file['mimeType']))\n",
        "\n",
        "print(\"Total Docs: {}\".format(len(doc_files)))\n",
        "doc_files[0:3]\n",
        "doc_files[len(doc_files)-3:len(doc_files)]"
      ],
      "execution_count": 5,
      "outputs": [
        {
          "output_type": "error",
          "ename": "NameError",
          "evalue": "ignored",
          "traceback": [
            "\u001b[0;31m---------------------------------------------------------------------------\u001b[0m",
            "\u001b[0;31mNameError\u001b[0m                                 Traceback (most recent call last)",
            "\u001b[0;32m<ipython-input-5-386ec8f5480b>\u001b[0m in \u001b[0;36m<module>\u001b[0;34m()\u001b[0m\n\u001b[0;32m----> 1\u001b[0;31m \u001b[0mlisted\u001b[0m \u001b[0;34m=\u001b[0m \u001b[0mdrive\u001b[0m\u001b[0;34m.\u001b[0m\u001b[0mListFile\u001b[0m\u001b[0;34m(\u001b[0m\u001b[0;34m{\u001b[0m\u001b[0;34m'q'\u001b[0m\u001b[0;34m:\u001b[0m \u001b[0;34m\"'%s' in parents and mimeType = 'application/pdf'\"\u001b[0m \u001b[0;34m%\u001b[0m \u001b[0mdir_id\u001b[0m \u001b[0;34m}\u001b[0m\u001b[0;34m)\u001b[0m\u001b[0;34m.\u001b[0m\u001b[0mGetList\u001b[0m\u001b[0;34m(\u001b[0m\u001b[0;34m)\u001b[0m\u001b[0;34m\u001b[0m\u001b[0m\n\u001b[0m\u001b[1;32m      2\u001b[0m \u001b[0mdoc_files\u001b[0m \u001b[0;34m=\u001b[0m \u001b[0mdrive\u001b[0m\u001b[0;34m.\u001b[0m\u001b[0mListFile\u001b[0m\u001b[0;34m(\u001b[0m\u001b[0;34m{\u001b[0m\u001b[0;34m'q'\u001b[0m\u001b[0;34m:\u001b[0m \u001b[0;34m\"'%s' in parents and mimeType = 'application/vnd.google-apps.document'\"\u001b[0m \u001b[0;34m%\u001b[0m \u001b[0mdir_id\u001b[0m \u001b[0;34m}\u001b[0m\u001b[0;34m)\u001b[0m\u001b[0;34m.\u001b[0m\u001b[0mGetList\u001b[0m\u001b[0;34m(\u001b[0m\u001b[0;34m)\u001b[0m\u001b[0;34m\u001b[0m\u001b[0m\n\u001b[1;32m      3\u001b[0m \u001b[0;34m\u001b[0m\u001b[0m\n\u001b[1;32m      4\u001b[0m \u001b[0mdebug\u001b[0m \u001b[0;34m=\u001b[0m \u001b[0;32mFalse\u001b[0m\u001b[0;34m\u001b[0m\u001b[0m\n\u001b[1;32m      5\u001b[0m \u001b[0mfiles\u001b[0m\u001b[0;34m=\u001b[0m\u001b[0;34m[\u001b[0m\u001b[0;34m]\u001b[0m\u001b[0;34m\u001b[0m\u001b[0m\n",
            "\u001b[0;31mNameError\u001b[0m: name 'drive' is not defined"
          ]
        }
      ]
    }
  ]
}